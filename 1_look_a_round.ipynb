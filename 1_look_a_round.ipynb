{
 "cells": [
  {
   "cell_type": "code",
   "execution_count": 1,
   "metadata": {},
   "outputs": [],
   "source": [
    "# 01-5 : 파이썬 둘러보기 https://wikidocs.net/9\n",
    "\n",
    "# Python is a interpreter language\n",
    "# interactive interpreter means that you can type code and get the result immediately\n",
    "\n",
    "# Python interactive interpreter is called Python shell\n",
    "# >>> is the prompt of Python shell\n",
    "\n",
    "# If you want to exit Python shell, type 'Ctrl + Z -> Enter' or ' quit()' or import sys + sys.exit()"
   ]
  },
  {
   "cell_type": "code",
   "execution_count": 2,
   "metadata": {},
   "outputs": [
    {
     "name": "stdout",
     "output_type": "stream",
     "text": [
      "3\n",
      "-1\n",
      "1.25\n",
      "27\n"
     ]
    }
   ],
   "source": [
    "# the four fundamental arithmetic operations\n",
    "print(1 + 2)\n",
    "print(1-2)\n",
    "print(3/2.4)\n",
    "print(3*9)\n"
   ]
  },
  {
   "cell_type": "code",
   "execution_count": 3,
   "metadata": {},
   "outputs": [
    {
     "name": "stdout",
     "output_type": "stream",
     "text": [
      "3\n",
      "Python\n"
     ]
    }
   ],
   "source": [
    "# variable and calcuation\n",
    "a = 1\n",
    "b = 2\n",
    "print(a+b)\n",
    "\n",
    "a = \"Python\"\n",
    "print(a)"
   ]
  },
  {
   "cell_type": "code",
   "execution_count": 4,
   "metadata": {},
   "outputs": [
    {
     "name": "stdout",
     "output_type": "stream",
     "text": [
      "a는 1보다 크다.\n"
     ]
    }
   ],
   "source": [
    "# a conditional sentence 'if'\n",
    "a = 3\n",
    "if a > 1:\n",
    "    print(\"a는 1보다 크다.\")\n",
    "else:\n",
    "    print(\"a는 1보다 작다.\")"
   ]
  },
  {
   "cell_type": "code",
   "execution_count": 5,
   "metadata": {},
   "outputs": [
    {
     "name": "stdout",
     "output_type": "stream",
     "text": [
      "1\n",
      "2\n",
      "3\n"
     ]
    }
   ],
   "source": [
    "# a repetitive statement 'for'\n",
    "for a in [1,2,3]:\n",
    "    print(a)"
   ]
  },
  {
   "cell_type": "code",
   "execution_count": 7,
   "metadata": {},
   "outputs": [
    {
     "name": "stdout",
     "output_type": "stream",
     "text": [
      "1\n",
      "2\n",
      "3\n"
     ]
    }
   ],
   "source": [
    "# a repetitive statement 'while'\n",
    "i = 0\n",
    "while i < 3 :\n",
    "    i+=1\n",
    "    print(i)"
   ]
  },
  {
   "cell_type": "code",
   "execution_count": 8,
   "metadata": {},
   "outputs": [
    {
     "name": "stdout",
     "output_type": "stream",
     "text": [
      "7\n"
     ]
    }
   ],
   "source": [
    "# function\n",
    "def add(a,b):\n",
    "    # return means that the function returns the value\n",
    "    return a+b\n",
    "\n",
    "print(add(3,4))"
   ]
  }
 ],
 "metadata": {
  "kernelspec": {
   "display_name": "base",
   "language": "python",
   "name": "python3"
  },
  "language_info": {
   "codemirror_mode": {
    "name": "ipython",
    "version": 3
   },
   "file_extension": ".py",
   "mimetype": "text/x-python",
   "name": "python",
   "nbconvert_exporter": "python",
   "pygments_lexer": "ipython3",
   "version": "3.9.12"
  },
  "orig_nbformat": 4,
  "vscode": {
   "interpreter": {
    "hash": "a7a68ff6df131d9ae7a0f60e2ded381d5113c51d2c465edd8572fa159edd1df8"
   }
  }
 },
 "nbformat": 4,
 "nbformat_minor": 2
}
