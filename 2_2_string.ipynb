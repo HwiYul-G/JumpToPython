{
 "cells": [
  {
   "cell_type": "code",
   "execution_count": 1,
   "metadata": {},
   "outputs": [
    {
     "name": "stdout",
     "output_type": "stream",
     "text": [
      "str1 : Life is too short, You need Python\n",
      "str2 : a\n",
      "str3 : 123\n"
     ]
    }
   ],
   "source": [
    "# 'String' is a sequence of characters\n",
    "# \n",
    "str1 = \"Life is too short, You need Python\"\n",
    "str2 = \"a\"\n",
    "str3 = \"123\"\n",
    "print(\"str1 :\" , str1)\n",
    "print(\"str2 :\" , str2)\n",
    "print(\"str3 :\" , str3)"
   ]
  },
  {
   "cell_type": "code",
   "execution_count": null,
   "metadata": {},
   "outputs": [],
   "source": [
    "# To create a string, there are 'double quotation marks' and 'single quotation marks'\n",
    "# and 'three consecutive quotation marks', 'three consecutive single quotation marks' are used.\n",
    "\n",
    "# 1. Double quotation marks\n",
    "str1 = \"Hello World\"\n",
    "# 2. Single quotation marks\n",
    "str2 = 'Python is Fun'\n",
    "# 3. Three consecutive quotation marks\n",
    "str3 = \"\"\"Life is too short, You need Python\"\"\"\n",
    "# 4. Three consecutive single quotation marks\n",
    "str4 = '''Life is too short, You need Python'''"
   ]
  },
  {
   "cell_type": "code",
   "execution_count": 2,
   "metadata": {},
   "outputs": [
    {
     "name": "stdout",
     "output_type": "stream",
     "text": [
      "Python's favorite food is perl\n"
     ]
    }
   ],
   "source": [
    "# double qutation marks includes single quotation marks\n",
    "food = \"Python's favorite food is perl\"\n",
    "print(food)"
   ]
  },
  {
   "cell_type": "code",
   "execution_count": 3,
   "metadata": {},
   "outputs": [
    {
     "ename": "SyntaxError",
     "evalue": "invalid syntax (2590037334.py, line 2)",
     "output_type": "error",
     "traceback": [
      "\u001b[1;36m  Input \u001b[1;32mIn [3]\u001b[1;36m\u001b[0m\n\u001b[1;33m    food = 'Python's favorite food is perl'\u001b[0m\n\u001b[1;37m                   ^\u001b[0m\n\u001b[1;31mSyntaxError\u001b[0m\u001b[1;31m:\u001b[0m invalid syntax\n"
     ]
    }
   ],
   "source": [
    "# if single quotation marks includes single quotation marks, Error occurs\n",
    "food = 'Python's favorite food is perl'"
   ]
  },
  {
   "cell_type": "code",
   "execution_count": 4,
   "metadata": {},
   "outputs": [
    {
     "name": "stdout",
     "output_type": "stream",
     "text": [
      "\"Python is very easy.\" he says.\n"
     ]
    }
   ],
   "source": [
    "# single qutation marks include double quotation marks\n",
    "say = '\"Python is very easy.\" he says.'\n",
    "print(say)"
   ]
  },
  {
   "cell_type": "code",
   "execution_count": 5,
   "metadata": {},
   "outputs": [
    {
     "name": "stdout",
     "output_type": "stream",
     "text": [
      "Python's favorite food is perl\n",
      "\"Python is very easy.\" he says.\n"
     ]
    }
   ],
   "source": [
    "# using backslash(\\)\n",
    "food = 'Python\\'s favorite food is perl'\n",
    "say = \"\\\"Python is very easy.\\\" he says.\"\n",
    "print(food)\n",
    "print(say)"
   ]
  },
  {
   "cell_type": "code",
   "execution_count": 7,
   "metadata": {},
   "outputs": [
    {
     "name": "stdout",
     "output_type": "stream",
     "text": [
      "Life is too short\n",
      "You need Python\n",
      "\n",
      "Life is too short\n",
      "You need python\n",
      "\n",
      "\n",
      "Life is too short\n",
      "You need python\n",
      "\n"
     ]
    }
   ],
   "source": [
    "# Assign a multi-line string to a variable\n",
    "\n",
    "# 1. Using escape code '\\n'\n",
    "multiline = \"Life is too short\\nYou need Python\"\n",
    "print(multiline)\n",
    "\n",
    "# 2. Using three consecutive single quotation marks\n",
    "multiline = '''\n",
    "Life is too short\n",
    "You need python\n",
    "'''\n",
    "print(multiline)\n",
    "\n",
    "# 3. Using three consecutive double quotation marks\n",
    "multiline=\"\"\"\n",
    "Life is too short\n",
    "You need python\n",
    "\"\"\"\n",
    "print(multiline)"
   ]
  },
  {
   "cell_type": "code",
   "execution_count": null,
   "metadata": {},
   "outputs": [],
   "source": [
    "# Escape code : set of characters that are used to represent a specific action\n",
    "# \\n : new line\n",
    "# \\t : tab\n",
    "# \\\\ : backslash\n",
    "# \\' : single quotation marks\n",
    "# \\\" : double quotation marks\n",
    "# \\r : carriage return (줄 바꿈 문자, 현 커서를 가장 앞으로 이동)\n",
    "# \\f : form feed(줄 바꿈 문자, 현 커서를 다음 줄로 이동)\n",
    "# \\a : bell(벨 소리)\n",
    "# \\b : backspace\n",
    "# \\000 : null character"
   ]
  },
  {
   "cell_type": "code",
   "execution_count": 3,
   "metadata": {},
   "outputs": [
    {
     "name": "stdout",
     "output_type": "stream",
     "text": [
      "Python is fun!\n",
      "hellohello\n",
      "==================================================\n",
      "17\n",
      "a[0] : L\n",
      "a[1] : i\n",
      "a[2] : f\n",
      "a[-0] : L\n",
      "a[-1] : n\n",
      "a[-2] : o\n",
      "Life\n",
      "Lif\n",
      "Life \n",
      "is\n",
      "short\n",
      "You need Python\n",
      "Life is too short\n",
      "Life is too short, You need Python\n",
      "You need\n"
     ]
    }
   ],
   "source": [
    "# String operation\n",
    "# 1. + : concatenation\n",
    "head = \"Python\"\n",
    "tail = \" is fun!\"\n",
    "print(head+tail)\n",
    "\n",
    "# 2. * : repetition\n",
    "a = \"hello\"\n",
    "print(a*2)\n",
    "print(\"=\"*50)\n",
    "\n",
    "# 3. len(string) : length of string\n",
    "a = \"Life is too short\"\n",
    "print(len(a))\n",
    "\n",
    "# 4. indexing and slicing : python starts from 0 in index\n",
    "a = \"Life is too short, You need Python\"\n",
    "print(\"a[0] :\", a[0])\n",
    "print(\"a[1] :\", a[1])\n",
    "print(\"a[2] :\", a[2])\n",
    "print(\"a[-0] :\", a[-0]) # L\n",
    "print(\"a[-1] :\", a[-1]) # n\n",
    "print(\"a[-2] :\", a[-2]) # o\n",
    "\n",
    "# slicing\n",
    "print(a[0:4]) # Life\n",
    "print(a[0:3]) # Lif\n",
    "# [0:3] is same as 0 <= a < 3\n",
    "\n",
    "# [0:5] is same as 0 <= a < 5\n",
    "# [4] is ' '\n",
    "print(a[0:5]) # 'Life '\n",
    "# blank character is included\n",
    "\n",
    "# the start number doesn't have to be zero(0)\n",
    "print(a[5:7]) # 'is'\n",
    "print(a[12:17]) #'short'\n",
    "\n",
    "# if the end number is omitted, it is same as the end of string\n",
    "print(a[19:]) # 'You need Python'\n",
    "# if the start number is omitted, it is same as the start of string\n",
    "print(a[:17]) # 'Life is too short'\n",
    "\n",
    "print(a[:]) # print entire string\n",
    "\n",
    "print(a[19:-7]) # 'You need'\n",
    "# 19: -7 is same as 19 <= a < -7"
   ]
  },
  {
   "cell_type": "code",
   "execution_count": 4,
   "metadata": {},
   "outputs": [
    {
     "name": "stdout",
     "output_type": "stream",
     "text": [
      "date :  20230125\n",
      "weather :  Cold\n"
     ]
    }
   ],
   "source": [
    "# 5. split the string using slicing\n",
    "a = \"20230125Cold\"\n",
    "date = a[:8] # 0 <= a < 8\n",
    "weather = a[8:] # 8 <= a ~\n",
    "print(\"date : \", date)\n",
    "print(\"weather : \", weather)"
   ]
  },
  {
   "cell_type": "code",
   "execution_count": 5,
   "metadata": {},
   "outputs": [
    {
     "name": "stdout",
     "output_type": "stream",
     "text": [
      "year :  2023\n",
      "day :  0125\n",
      "weather :  Cold\n"
     ]
    }
   ],
   "source": [
    "a = \"20230125Cold\"\n",
    "year = a[:4]\n",
    "day = a[4:8]\n",
    "weather = a[8:]\n",
    "print(\"year : \", year)\n",
    "print(\"day : \", day)\n",
    "print(\"weather : \", weather)"
   ]
  },
  {
   "cell_type": "code",
   "execution_count": 6,
   "metadata": {},
   "outputs": [
    {
     "name": "stdout",
     "output_type": "stream",
     "text": [
      "i\n"
     ]
    },
    {
     "ename": "TypeError",
     "evalue": "'str' object does not support item assignment",
     "output_type": "error",
     "traceback": [
      "\u001b[1;31m---------------------------------------------------------------------------\u001b[0m",
      "\u001b[1;31mTypeError\u001b[0m                                 Traceback (most recent call last)",
      "\u001b[1;32mc:\\Users\\Y\\Desktop\\my_worksapce\\MyPython\\JumpToPython\\2_2_string.ipynb Cell 12\u001b[0m in \u001b[0;36m<cell line: 4>\u001b[1;34m()\u001b[0m\n\u001b[0;32m      <a href='vscode-notebook-cell:/c%3A/Users/Y/Desktop/my_worksapce/MyPython/JumpToPython/2_2_string.ipynb#X14sZmlsZQ%3D%3D?line=1'>2</a>\u001b[0m a \u001b[39m=\u001b[39m \u001b[39m\"\u001b[39m\u001b[39mPithon\u001b[39m\u001b[39m\"\u001b[39m\n\u001b[0;32m      <a href='vscode-notebook-cell:/c%3A/Users/Y/Desktop/my_worksapce/MyPython/JumpToPython/2_2_string.ipynb#X14sZmlsZQ%3D%3D?line=2'>3</a>\u001b[0m \u001b[39mprint\u001b[39m(a[\u001b[39m1\u001b[39m]) \u001b[39m# 'i\u001b[39;00m\n\u001b[1;32m----> <a href='vscode-notebook-cell:/c%3A/Users/Y/Desktop/my_worksapce/MyPython/JumpToPython/2_2_string.ipynb#X14sZmlsZQ%3D%3D?line=3'>4</a>\u001b[0m a[\u001b[39m1\u001b[39m] \u001b[39m=\u001b[39m \u001b[39m'\u001b[39m\u001b[39my\u001b[39m\u001b[39m'\u001b[39m\n",
      "\u001b[1;31mTypeError\u001b[0m: 'str' object does not support item assignment"
     ]
    }
   ],
   "source": [
    "# How to change from \"Pithon\" to \"Python\"1_look_a_round.ipynb\n",
    "a = \"Pithon\"\n",
    "print(a[1]) # 'i\n",
    "a[1] = 'y' # Error occurs\n",
    "# String is immutable\n",
    "# It means that String's element cannot be changed"
   ]
  },
  {
   "cell_type": "code",
   "execution_count": 7,
   "metadata": {},
   "outputs": [
    {
     "name": "stdout",
     "output_type": "stream",
     "text": [
      "P\n",
      "thon\n",
      "Python\n"
     ]
    }
   ],
   "source": [
    "a = 'Pithon'\n",
    "print(a[:1]) # 'p'\n",
    "print(a[2:]) # 'thon'\n",
    "print(a[:1] + 'y' + a[2:]) # 'Python'"
   ]
  },
  {
   "cell_type": "code",
   "execution_count": 1,
   "metadata": {},
   "outputs": [
    {
     "name": "stdout",
     "output_type": "stream",
     "text": [
      "I eat 3 apples.\n",
      "I eat five apples.\n",
      "I eat 3 apples.\n",
      "I ate 10 apples. so I was sick for three days.\n",
      "Error is 98%.\n"
     ]
    }
   ],
   "source": [
    "# 6. string formatting\n",
    "# string formatting : insert a variable into a string\n",
    "\n",
    "# using %\n",
    "# %d : string formatting code for integer\n",
    "print(\"I eat %d apples.\" % 3)\n",
    "print(\"I eat %s apples.\" % \"five\")\n",
    "\n",
    "number = 3\n",
    "print(\"I eat %d apples.\" % number)\n",
    "\n",
    "number = 10\n",
    "day = \"three\"\n",
    "print(\"I ate %d apples. so I was sick for %s days.\" % (number, day))\n",
    "\n",
    "\"\"\"\n",
    "[String format Code]\n",
    "%s : string\n",
    "%c : character\n",
    "%d : integer\n",
    "%f floating-point\n",
    "%o : octal\n",
    "%x : hexadeciaml\n",
    "%% : Literal % character\n",
    "\"\"\"\n",
    "print(\"Error is %d%%.\" % 98)\n",
    "\n"
   ]
  },
  {
   "cell_type": "code",
   "execution_count": 2,
   "metadata": {},
   "outputs": [
    {
     "name": "stdout",
     "output_type": "stream",
     "text": [
      "        hi\n",
      "hi        jane.\n",
      "3.4213\n",
      "    3.4213\n"
     ]
    }
   ],
   "source": [
    "# sort and blank\n",
    "\n",
    "# %10s : total sapces is 10 spaces and aling right\n",
    "print(\"%10s\" % \"hi\")\n",
    "# %-10s : total sapces is 10 spaces and align left\n",
    "print(\"%-10sjane.\" % 'hi')\n",
    "\n",
    "# %0.4f : up to 4 decimal places and align right\n",
    "print(\"%0.4f\" % 3.42134234)\n",
    "\n",
    "# %10.4f : total spaces is 10 spaces and up to 4 decimal places and align right\n",
    "print(\"%10.4f\"  % 3.42134234)"
   ]
  },
  {
   "cell_type": "code",
   "execution_count": 3,
   "metadata": {},
   "outputs": [
    {
     "name": "stdout",
     "output_type": "stream",
     "text": [
      "I eat 3 apples.\n",
      "I eat 3 apples.\n",
      "I ate 1 apples. so I was sick for three days\n",
      " I ate 10 apples. so I was sic for 3 days.\n"
     ]
    }
   ],
   "source": [
    "# using format()\n",
    "print(\"I eat {0} apples.\".format(3))\n",
    "\n",
    "number = 3\n",
    "print(\"I eat {0} apples.\".format(number))\n",
    "\n",
    "number = 1\n",
    "day = \"three\"\n",
    "print(\"I ate {0} apples. so I was sick for {1} days\".format(number, day))\n",
    "print(\" I ate {number} apples. so I was sic for {day} days.\".format(number=10, day=3))"
   ]
  },
  {
   "cell_type": "code",
   "execution_count": 6,
   "metadata": {},
   "outputs": [
    {
     "name": "stdout",
     "output_type": "stream",
     "text": [
      "hi        \n",
      "        hi\n",
      "    hi    \n"
     ]
    }
   ],
   "source": [
    "# alignment\n",
    "\n",
    "# align left\n",
    "# '0:<10' expression means that total spaces is 10 spaces and align left\n",
    "print(\"{0:<10}\".format(\"hi\"))\n",
    "\n",
    "# align right\n",
    "# 0:>10 expression means that total spaces is 10 spaces and align right\n",
    "print(\"{0:>10}\".format(\"hi\"))\n",
    "\n",
    "# if you confused about align left and align right, you think allow direction\n",
    "\n",
    "# align center\n",
    "print(\"{0:^10}\".format(\"hi\"))"
   ]
  },
  {
   "cell_type": "code",
   "execution_count": 7,
   "metadata": {},
   "outputs": [
    {
     "name": "stdout",
     "output_type": "stream",
     "text": [
      "====hi====\n",
      "hi!!!!!!!!\n"
     ]
    }
   ],
   "source": [
    "# insert blank\n",
    "print(\"{0:=^10}\".format(\"hi\"))\n",
    "print(\"{0:!<10}\".format(\"hi\"))\n",
    "\n",
    "# when you align, you write character that you want to insert in front of align character such as '< , > , ^'"
   ]
  },
  {
   "cell_type": "code",
   "execution_count": 8,
   "metadata": {},
   "outputs": [
    {
     "name": "stdout",
     "output_type": "stream",
     "text": [
      "3.4213\n",
      "    3.4213\n"
     ]
    }
   ],
   "source": [
    "# floating\n",
    "y = 3.42134234\n",
    "print(\"{0:0.4f}\".format(y))\n",
    "\n",
    "print(\"{0:10.4f}\".format(y))"
   ]
  },
  {
   "cell_type": "code",
   "execution_count": 9,
   "metadata": {},
   "outputs": [
    {
     "name": "stdout",
     "output_type": "stream",
     "text": [
      "{ and}\n"
     ]
    }
   ],
   "source": [
    "# express '{, }'\n",
    "# if you want to print '{, }' using format(), you have to use '{{, }}'\n",
    "print(\"{{ and }}\".format())"
   ]
  },
  {
   "cell_type": "code",
   "execution_count": 10,
   "metadata": {},
   "outputs": [
    {
     "name": "stdout",
     "output_type": "stream",
     "text": [
      "나의 이름은 홍길동입니다. 나이는 30입니다.\n",
      "나는 내년이면 31살이 된다.\n"
     ]
    }
   ],
   "source": [
    "# f string formatting\n",
    "# It can be used from python 3.6 version\n",
    "name = \"홍길동\"\n",
    "age = 30\n",
    "print(f'나의 이름은 {name}입니다. 나이는 {age}입니다.')\n",
    "# if you use f string formatting, you can use 'Equation'\n",
    "print(f'나는 내년이면 {age + 1}살이 된다.')"
   ]
  },
  {
   "cell_type": "code",
   "execution_count": 11,
   "metadata": {},
   "outputs": [
    {
     "name": "stdout",
     "output_type": "stream",
     "text": [
      "나의 이름은 홍길동입니다. 나이는 30입니다.\n"
     ]
    }
   ],
   "source": [
    "# dictionary data type can be used in f string formatting\n",
    "d = {'name':'홍길동', 'age':30}\n",
    "print(f'나의 이름은 {d[\"name\"]}입니다. 나이는 {d[\"age\"]}입니다.')"
   ]
  },
  {
   "cell_type": "code",
   "execution_count": 12,
   "metadata": {},
   "outputs": [
    {
     "name": "stdout",
     "output_type": "stream",
     "text": [
      "hi        \n",
      "        hi\n",
      "    hi    \n"
     ]
    }
   ],
   "source": [
    "# alignment in f string formating\n",
    "print(f'{\"hi\":<10}') # align left\n",
    "print(f'{\"hi\":>10}') # align right\n",
    "print(f'{\"hi\":^10}') # align center"
   ]
  },
  {
   "cell_type": "code",
   "execution_count": 13,
   "metadata": {},
   "outputs": [
    {
     "name": "stdout",
     "output_type": "stream",
     "text": [
      "====hi====\n",
      "hi!!!!!!!!\n",
      "\n",
      "3.4213\n",
      "    3.4213\n",
      "\n",
      "{ and }\n"
     ]
    }
   ],
   "source": [
    "print(f'{\"hi\":=^10}')\n",
    "print(f'{\"hi\":!<10}')\n",
    "print()\n",
    "\n",
    "y = 3.42134234\n",
    "print(f'{y:0.4f}')\n",
    "print(f'{y:10.4f}')\n",
    "print()\n",
    "\n",
    "print(f'{{ and }}')"
   ]
  },
  {
   "cell_type": "code",
   "execution_count": 14,
   "metadata": {},
   "outputs": [
    {
     "name": "stdout",
     "output_type": "stream",
     "text": [
      "2\n",
      "\n",
      "2\n",
      "-1\n",
      "\n",
      "8\n"
     ]
    },
    {
     "ename": "ValueError",
     "evalue": "substring not found",
     "output_type": "error",
     "traceback": [
      "\u001b[1;31m---------------------------------------------------------------------------\u001b[0m",
      "\u001b[1;31mValueError\u001b[0m                                Traceback (most recent call last)",
      "\u001b[1;32mc:\\Users\\Y\\Desktop\\my_worksapce\\MyPython\\JumpToPython\\2_2_string.ipynb Cell 25\u001b[0m in \u001b[0;36m<cell line: 17>\u001b[1;34m()\u001b[0m\n\u001b[0;32m     <a href='vscode-notebook-cell:/c%3A/Users/Y/Desktop/my_worksapce/MyPython/JumpToPython/2_2_string.ipynb#X33sZmlsZQ%3D%3D?line=14'>15</a>\u001b[0m a \u001b[39m=\u001b[39m \u001b[39m\"\u001b[39m\u001b[39mLife is too short\u001b[39m\u001b[39m\"\u001b[39m\n\u001b[0;32m     <a href='vscode-notebook-cell:/c%3A/Users/Y/Desktop/my_worksapce/MyPython/JumpToPython/2_2_string.ipynb#X33sZmlsZQ%3D%3D?line=15'>16</a>\u001b[0m \u001b[39mprint\u001b[39m(a\u001b[39m.\u001b[39mfind(\u001b[39m\"\u001b[39m\u001b[39mt\u001b[39m\u001b[39m\"\u001b[39m))\n\u001b[1;32m---> <a href='vscode-notebook-cell:/c%3A/Users/Y/Desktop/my_worksapce/MyPython/JumpToPython/2_2_string.ipynb#X33sZmlsZQ%3D%3D?line=16'>17</a>\u001b[0m \u001b[39mprint\u001b[39m(a\u001b[39m.\u001b[39;49mindex(\u001b[39m\"\u001b[39;49m\u001b[39mk\u001b[39;49m\u001b[39m\"\u001b[39;49m))\n",
      "\u001b[1;31mValueError\u001b[0m: substring not found"
     ]
    }
   ],
   "source": [
    "# 7. string function\n",
    "\n",
    "# 1) count() : count the number of character\n",
    "a = \"hobby\"\n",
    "print(a.count('b'))\n",
    "print()\n",
    "\n",
    "# 2) find() : find the index of character\n",
    "print(a.find('b'))\n",
    "print(a.find('k'))\n",
    "print()\n",
    "\n",
    "# 3) index() : find the index of character\n",
    "# if there is no character, it occurs error\n",
    "a = \"Life is too short\"\n",
    "print(a.find(\"t\"))\n",
    "print(a.index(\"k\"))"
   ]
  },
  {
   "cell_type": "code",
   "execution_count": 15,
   "metadata": {},
   "outputs": [
    {
     "name": "stdout",
     "output_type": "stream",
     "text": [
      "a,b,c,d\n",
      "a,b,c,d\n",
      "\n",
      "HI\n",
      "hi\n",
      "\n",
      " hi\n",
      "hi \n",
      "hi\n",
      "\n",
      "Your leg is too short\n",
      "\n",
      "['Life', 'is', 'too', 'short']\n",
      "['a', 'b', 'c', 'd']\n"
     ]
    }
   ],
   "source": [
    "# 4) join() : insert string\n",
    "print(\",\".join('abcd'))\n",
    "# join() can be used in list and tuple\n",
    "print(\",\".join(['a', 'b', 'c', 'd']))\n",
    "print()\n",
    "\n",
    "# 5) upper() and lower() : change upper case and lower case\n",
    "a = \"hi\"\n",
    "print(a.upper())\n",
    "a = \"HI\"\n",
    "print(a.lower())\n",
    "print()\n",
    "\n",
    "# 6) lstrip() and rstrip() and strip() : delete blank\n",
    "a = \" hi \"\n",
    "print(a.rstrip())\n",
    "print(a.lstrip())\n",
    "print(a.strip())\n",
    "print()\n",
    "\n",
    "# 7) replace() : replace string\n",
    "a = \"Life is too short\"\n",
    "print(a.replace(\"Life\", \"Your leg\"))\n",
    "print()\n",
    "\n",
    "# 8) split() : split string\n",
    "a = \"Life is too short\"\n",
    "print(a.split())\n",
    "b = \"a:b:c:d\"\n",
    "print(b.split(\":\"))"
   ]
  }
 ],
 "metadata": {
  "kernelspec": {
   "display_name": "base",
   "language": "python",
   "name": "python3"
  },
  "language_info": {
   "codemirror_mode": {
    "name": "ipython",
    "version": 3
   },
   "file_extension": ".py",
   "mimetype": "text/x-python",
   "name": "python",
   "nbconvert_exporter": "python",
   "pygments_lexer": "ipython3",
   "version": "3.9.12"
  },
  "orig_nbformat": 4,
  "vscode": {
   "interpreter": {
    "hash": "a7a68ff6df131d9ae7a0f60e2ded381d5113c51d2c465edd8572fa159edd1df8"
   }
  }
 },
 "nbformat": 4,
 "nbformat_minor": 2
}
