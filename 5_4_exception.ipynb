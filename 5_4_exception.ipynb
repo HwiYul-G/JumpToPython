{
 "cells": [
  {
   "cell_type": "code",
   "execution_count": 1,
   "metadata": {},
   "outputs": [
    {
     "ename": "FileNotFoundError",
     "evalue": "[Errno 2] No such file or directory: '없는 파일'",
     "output_type": "error",
     "traceback": [
      "\u001b[1;31m---------------------------------------------------------------------------\u001b[0m",
      "\u001b[1;31mFileNotFoundError\u001b[0m                         Traceback (most recent call last)",
      "\u001b[1;32mc:\\Users\\Y\\Desktop\\my_worksapce\\MyPython\\JumpToPython\\game\\5_4_exception.ipynb Cell 1\u001b[0m in \u001b[0;36m<cell line: 1>\u001b[1;34m()\u001b[0m\n\u001b[1;32m----> <a href='vscode-notebook-cell:/c%3A/Users/Y/Desktop/my_worksapce/MyPython/JumpToPython/game/5_4_exception.ipynb#W0sZmlsZQ%3D%3D?line=0'>1</a>\u001b[0m f \u001b[39m=\u001b[39m \u001b[39mopen\u001b[39;49m(\u001b[39m\"\u001b[39;49m\u001b[39m없는 파일\u001b[39;49m\u001b[39m\"\u001b[39;49m, \u001b[39m\"\u001b[39;49m\u001b[39mr\u001b[39;49m\u001b[39m\"\u001b[39;49m)\n",
      "\u001b[1;31mFileNotFoundError\u001b[0m: [Errno 2] No such file or directory: '없는 파일'"
     ]
    }
   ],
   "source": [
    "f = open(\"없는 파일\", \"r\")\n",
    "# File not found error"
   ]
  },
  {
   "cell_type": "code",
   "execution_count": 2,
   "metadata": {},
   "outputs": [
    {
     "ename": "ZeroDivisionError",
     "evalue": "division by zero",
     "output_type": "error",
     "traceback": [
      "\u001b[1;31m---------------------------------------------------------------------------\u001b[0m",
      "\u001b[1;31mZeroDivisionError\u001b[0m                         Traceback (most recent call last)",
      "\u001b[1;32mc:\\Users\\Y\\Desktop\\my_worksapce\\MyPython\\JumpToPython\\game\\5_4_exception.ipynb Cell 2\u001b[0m in \u001b[0;36m<cell line: 1>\u001b[1;34m()\u001b[0m\n\u001b[1;32m----> <a href='vscode-notebook-cell:/c%3A/Users/Y/Desktop/my_worksapce/MyPython/JumpToPython/game/5_4_exception.ipynb#W1sZmlsZQ%3D%3D?line=0'>1</a>\u001b[0m \u001b[39m4\u001b[39;49m \u001b[39m/\u001b[39;49m \u001b[39m0\u001b[39;49m\n",
      "\u001b[1;31mZeroDivisionError\u001b[0m: division by zero"
     ]
    }
   ],
   "source": [
    "4 / 0\n",
    "# ZeroDivisionError: division by zero"
   ]
  },
  {
   "cell_type": "code",
   "execution_count": 3,
   "metadata": {},
   "outputs": [
    {
     "ename": "IndexError",
     "evalue": "list index out of range",
     "output_type": "error",
     "traceback": [
      "\u001b[1;31m---------------------------------------------------------------------------\u001b[0m",
      "\u001b[1;31mIndexError\u001b[0m                                Traceback (most recent call last)",
      "\u001b[1;32mc:\\Users\\Y\\Desktop\\my_worksapce\\MyPython\\JumpToPython\\game\\5_4_exception.ipynb Cell 3\u001b[0m in \u001b[0;36m<cell line: 2>\u001b[1;34m()\u001b[0m\n\u001b[0;32m      <a href='vscode-notebook-cell:/c%3A/Users/Y/Desktop/my_worksapce/MyPython/JumpToPython/game/5_4_exception.ipynb#W2sZmlsZQ%3D%3D?line=0'>1</a>\u001b[0m a \u001b[39m=\u001b[39m [\u001b[39m1\u001b[39m, \u001b[39m2\u001b[39m, \u001b[39m3\u001b[39m]\n\u001b[1;32m----> <a href='vscode-notebook-cell:/c%3A/Users/Y/Desktop/my_worksapce/MyPython/JumpToPython/game/5_4_exception.ipynb#W2sZmlsZQ%3D%3D?line=1'>2</a>\u001b[0m a[\u001b[39m4\u001b[39;49m]\n",
      "\u001b[1;31mIndexError\u001b[0m: list index out of range"
     ]
    }
   ],
   "source": [
    "a = [1, 2, 3]\n",
    "a[4]\n",
    "# IndexError: list index out of range"
   ]
  },
  {
   "cell_type": "code",
   "execution_count": null,
   "metadata": {},
   "outputs": [],
   "source": [
    "# try, except 문\n",
    "# try:\n",
    "# except [발생 오류[as 오류변수]]:\n",
    "\n",
    "# try 블록 수행 중 오류가 발생하면\n",
    "# except 블록이 수행된다.\n",
    "# 하지만 try 블록에서 오류가 발생하지 않으면\n",
    "# except 블록은 수행되지 않는다.\n",
    "\n",
    "# except [발생 오류 [as 오류변수]]:\n",
    "# 위 구문을 보면 [] 기호를 사용한다.\n",
    "# 이 기호는 괄호 안의 내용을 생략할 수 있다는 관례적 표기법이다.\n",
    "# 즉 except 구문을 아래 3가지로 사용할 수 있다.\n",
    "\n",
    "# 1. try, except만 쓰는 방법\n",
    "# try:\n",
    "# except:\n",
    "\n",
    "# 2. 발생 오류만 포함한 except문\n",
    "# try:\n",
    "# except 발생 오류:\n",
    "\n",
    "# 3. 발생 오류와 오류 메시지 변수까지 포함한 except문\n",
    "# try:\n",
    "# except 발생 오류 as 오류변수:"
   ]
  },
  {
   "cell_type": "code",
   "execution_count": 4,
   "metadata": {},
   "outputs": [
    {
     "name": "stdout",
     "output_type": "stream",
     "text": [
      "division by zero\n"
     ]
    }
   ],
   "source": [
    "try:\n",
    "    4 / 0\n",
    "except ZeroDivisionError as e:\n",
    "    print(e)"
   ]
  },
  {
   "cell_type": "code",
   "execution_count": 5,
   "metadata": {},
   "outputs": [],
   "source": [
    "# try ... finally\n",
    "# try문에는 finally절을 사용할 수 있다.\n",
    "# finally절은 try 문 수행 도중 예외 발생 여부에 상관없이 항상 수행된다.\n",
    "# 보통 finally절은 사용한 리소스를 close해야 할 때에 많이 사용한다.\n",
    "\n",
    "try:\n",
    "    f = open('foo.txt', \"w\")\n",
    "    # 무언가를 수행한다.\n",
    "finally:\n",
    "    f.close() # 중간에 오류가 발생해도 무조건 실행한다.\n"
   ]
  },
  {
   "cell_type": "code",
   "execution_count": 6,
   "metadata": {},
   "outputs": [
    {
     "name": "stdout",
     "output_type": "stream",
     "text": [
      "인덱싱 할 수 없습니다.\n"
     ]
    }
   ],
   "source": [
    "# 여러 개의 오류 처리하기\n",
    "# try:\n",
    "# except 발생오류1:\n",
    "# except 발생오류2:\n",
    "\n",
    "try:\n",
    "    a = [1, 2]\n",
    "    print(a[3])\n",
    "    4/0\n",
    "except ZeroDivisionError:\n",
    "    print(\"0으로 나눌 수 없습니다.\")\n",
    "except IndexError:\n",
    "    print(\"인덱싱 할 수 없습니다.\")"
   ]
  },
  {
   "cell_type": "code",
   "execution_count": 7,
   "metadata": {},
   "outputs": [
    {
     "name": "stdout",
     "output_type": "stream",
     "text": [
      "list index out of range\n"
     ]
    }
   ],
   "source": [
    "try:\n",
    "    a = [1, 2]\n",
    "    print(a[3])\n",
    "    4/0\n",
    "except ZeroDivisionError as e:\n",
    "    print(e)\n",
    "except IndexError as e:\n",
    "    print(e)"
   ]
  },
  {
   "cell_type": "code",
   "execution_count": 8,
   "metadata": {},
   "outputs": [
    {
     "name": "stdout",
     "output_type": "stream",
     "text": [
      "list index out of range\n"
     ]
    }
   ],
   "source": [
    "try:\n",
    "    a = [1,2]\n",
    "    print(a[3])\n",
    "    4/0\n",
    "except (ZeroDivisionError, IndexError) as e:\n",
    "    print(e)"
   ]
  },
  {
   "cell_type": "code",
   "execution_count": 9,
   "metadata": {},
   "outputs": [
    {
     "name": "stdout",
     "output_type": "stream",
     "text": [
      "미성년자는 출입금지입니다.\n"
     ]
    }
   ],
   "source": [
    "# try ... else\n",
    "try:\n",
    "    age = int(input(\"나이를 입력하세요: \"))\n",
    "except:\n",
    "    print(\"입력이 정확하지 않습니다.\")\n",
    "else: # 오류가 없을 경우에만 수행된다.\n",
    "    if age <= 18:\n",
    "        print(\"미성년자는 출입금지입니다.\")\n",
    "    else:\n",
    "        print(\"환영합니다.\")"
   ]
  },
  {
   "cell_type": "code",
   "execution_count": 10,
   "metadata": {},
   "outputs": [],
   "source": [
    "# 오류 회피하기\n",
    "# 코드를 작성하다 보면 특정 오류 발생을 그냥 통과시켜야할 수가 있다.\n",
    "try:\n",
    "    f = open(\"나없는파일\", \"r\")\n",
    "except FileNotFoundError:\n",
    "    pass"
   ]
  },
  {
   "cell_type": "code",
   "execution_count": 11,
   "metadata": {},
   "outputs": [
    {
     "ename": "NotImplementedError",
     "evalue": "",
     "output_type": "error",
     "traceback": [
      "\u001b[1;31m---------------------------------------------------------------------------\u001b[0m",
      "\u001b[1;31mNotImplementedError\u001b[0m                       Traceback (most recent call last)",
      "\u001b[1;32mc:\\Users\\Y\\Desktop\\my_worksapce\\MyPython\\JumpToPython\\game\\5_4_exception.ipynb Cell 12\u001b[0m in \u001b[0;36m<cell line: 16>\u001b[1;34m()\u001b[0m\n\u001b[0;32m     <a href='vscode-notebook-cell:/c%3A/Users/Y/Desktop/my_worksapce/MyPython/JumpToPython/game/5_4_exception.ipynb#X14sZmlsZQ%3D%3D?line=13'>14</a>\u001b[0m     \u001b[39mpass\u001b[39;00m\n\u001b[0;32m     <a href='vscode-notebook-cell:/c%3A/Users/Y/Desktop/my_worksapce/MyPython/JumpToPython/game/5_4_exception.ipynb#X14sZmlsZQ%3D%3D?line=14'>15</a>\u001b[0m eagle \u001b[39m=\u001b[39m Eagle()\n\u001b[1;32m---> <a href='vscode-notebook-cell:/c%3A/Users/Y/Desktop/my_worksapce/MyPython/JumpToPython/game/5_4_exception.ipynb#X14sZmlsZQ%3D%3D?line=15'>16</a>\u001b[0m eagle\u001b[39m.\u001b[39;49mfly()\n",
      "\u001b[1;32mc:\\Users\\Y\\Desktop\\my_worksapce\\MyPython\\JumpToPython\\game\\5_4_exception.ipynb Cell 12\u001b[0m in \u001b[0;36mBird.fly\u001b[1;34m(self)\u001b[0m\n\u001b[0;32m      <a href='vscode-notebook-cell:/c%3A/Users/Y/Desktop/my_worksapce/MyPython/JumpToPython/game/5_4_exception.ipynb#X14sZmlsZQ%3D%3D?line=7'>8</a>\u001b[0m \u001b[39mdef\u001b[39;00m \u001b[39mfly\u001b[39m(\u001b[39mself\u001b[39m):\n\u001b[1;32m----> <a href='vscode-notebook-cell:/c%3A/Users/Y/Desktop/my_worksapce/MyPython/JumpToPython/game/5_4_exception.ipynb#X14sZmlsZQ%3D%3D?line=8'>9</a>\u001b[0m     \u001b[39mraise\u001b[39;00m \u001b[39mNotImplementedError\u001b[39;00m\n",
      "\u001b[1;31mNotImplementedError\u001b[0m: "
     ]
    }
   ],
   "source": [
    "# 오류 일부러 발생시키기\n",
    "# 프로그래밍을 하다 보면 종종 오류를 일부러 발생시켜야 할 경우도 생긴다.\n",
    "# 파이썬은 raise 명령어를 사용해 오류를 강제로 발생시킬 수 있다.\n",
    "\n",
    "# 예를 들어 Bird 클래스를 상송받는 자식 클래스는 반드시 fly라는 함수를 구현하도록\n",
    "# 만들어보고 싶은 경우(강제로 그렇게 하고 싶은 경우)가 있을 수 있다.\n",
    "class Bird:\n",
    "    def fly(self):\n",
    "        raise NotImplementedError\n",
    "# NotImplementedError는 파이썬에 이미 정의되어 있는 오류로\n",
    "# 꼭 작성해야하는 부분이 구현되지 않았을 경우 일부러 오류를 일으키는 것이다.\n",
    "\n",
    "class Eagle(Bird):\n",
    "    pass\n",
    "eagle = Eagle()\n",
    "eagle.fly()"
   ]
  },
  {
   "cell_type": "code",
   "execution_count": 12,
   "metadata": {},
   "outputs": [
    {
     "name": "stdout",
     "output_type": "stream",
     "text": [
      "very fast\n"
     ]
    }
   ],
   "source": [
    "class Eagle(Bird):\n",
    "    def fly(self):\n",
    "        print(\"very fast\")\n",
    "\n",
    "eagle = Eagle()\n",
    "eagle.fly()"
   ]
  },
  {
   "cell_type": "code",
   "execution_count": 13,
   "metadata": {},
   "outputs": [],
   "source": [
    "# 예외 만들기\n",
    "# 프로그램 수행 중 특수한 경우에만 예외 처리를 하기 위해 종종 예외를 만들어서 사용한다.\n",
    "# 이번엔 직접 예외를 만들어 보자.\n",
    "# 예외는 아래와 같이 파이썬 내장 클래스인 Excepton 클래스를 상속해 만들 수 있다.\n",
    "\n",
    "class MyError(Exception):\n",
    "    pass\n",
    "\n",
    "def say_nick(nick):\n",
    "    if nick == \"바보\":\n",
    "        raise MyError()\n",
    "    print(nick)"
   ]
  },
  {
   "cell_type": "code",
   "execution_count": 14,
   "metadata": {},
   "outputs": [
    {
     "name": "stdout",
     "output_type": "stream",
     "text": [
      "천사\n"
     ]
    },
    {
     "ename": "MyError",
     "evalue": "",
     "output_type": "error",
     "traceback": [
      "\u001b[1;31m---------------------------------------------------------------------------\u001b[0m",
      "\u001b[1;31mMyError\u001b[0m                                   Traceback (most recent call last)",
      "\u001b[1;32mc:\\Users\\Y\\Desktop\\my_worksapce\\MyPython\\JumpToPython\\game\\5_4_exception.ipynb Cell 15\u001b[0m in \u001b[0;36m<cell line: 2>\u001b[1;34m()\u001b[0m\n\u001b[0;32m      <a href='vscode-notebook-cell:/c%3A/Users/Y/Desktop/my_worksapce/MyPython/JumpToPython/game/5_4_exception.ipynb#X20sZmlsZQ%3D%3D?line=0'>1</a>\u001b[0m say_nick(\u001b[39m\"\u001b[39m\u001b[39m천사\u001b[39m\u001b[39m\"\u001b[39m) \u001b[39m# MyError 발생\u001b[39;00m\n\u001b[1;32m----> <a href='vscode-notebook-cell:/c%3A/Users/Y/Desktop/my_worksapce/MyPython/JumpToPython/game/5_4_exception.ipynb#X20sZmlsZQ%3D%3D?line=1'>2</a>\u001b[0m say_nick(\u001b[39m\"\u001b[39;49m\u001b[39m바보\u001b[39;49m\u001b[39m\"\u001b[39;49m)\n",
      "\u001b[1;32mc:\\Users\\Y\\Desktop\\my_worksapce\\MyPython\\JumpToPython\\game\\5_4_exception.ipynb Cell 15\u001b[0m in \u001b[0;36msay_nick\u001b[1;34m(nick)\u001b[0m\n\u001b[0;32m      <a href='vscode-notebook-cell:/c%3A/Users/Y/Desktop/my_worksapce/MyPython/JumpToPython/game/5_4_exception.ipynb#X20sZmlsZQ%3D%3D?line=8'>9</a>\u001b[0m \u001b[39mdef\u001b[39;00m \u001b[39msay_nick\u001b[39m(nick):\n\u001b[0;32m     <a href='vscode-notebook-cell:/c%3A/Users/Y/Desktop/my_worksapce/MyPython/JumpToPython/game/5_4_exception.ipynb#X20sZmlsZQ%3D%3D?line=9'>10</a>\u001b[0m     \u001b[39mif\u001b[39;00m nick \u001b[39m==\u001b[39m \u001b[39m\"\u001b[39m\u001b[39m바보\u001b[39m\u001b[39m\"\u001b[39m:\n\u001b[1;32m---> <a href='vscode-notebook-cell:/c%3A/Users/Y/Desktop/my_worksapce/MyPython/JumpToPython/game/5_4_exception.ipynb#X20sZmlsZQ%3D%3D?line=10'>11</a>\u001b[0m         \u001b[39mraise\u001b[39;00m MyError()\n\u001b[0;32m     <a href='vscode-notebook-cell:/c%3A/Users/Y/Desktop/my_worksapce/MyPython/JumpToPython/game/5_4_exception.ipynb#X20sZmlsZQ%3D%3D?line=11'>12</a>\u001b[0m     \u001b[39mprint\u001b[39m(nick)\n",
      "\u001b[1;31mMyError\u001b[0m: "
     ]
    }
   ],
   "source": [
    "say_nick(\"천사\") # MyError 발생\n",
    "say_nick(\"바보\")"
   ]
  },
  {
   "cell_type": "code",
   "execution_count": 15,
   "metadata": {},
   "outputs": [
    {
     "name": "stdout",
     "output_type": "stream",
     "text": [
      "천사\n",
      "허용되지 않는 별명입니다.\n"
     ]
    }
   ],
   "source": [
    "# 이번에는 예외 처리 기법을 사용해 MyError 발생을 예외 처리해 보자.\n",
    "try:\n",
    "    say_nick(\"천사\")\n",
    "    say_nick(\"바보\")\n",
    "except MyError:\n",
    "    print(\"허용되지 않는 별명입니다.\")"
   ]
  },
  {
   "cell_type": "code",
   "execution_count": 17,
   "metadata": {},
   "outputs": [
    {
     "name": "stdout",
     "output_type": "stream",
     "text": [
      "천사\n",
      "\n"
     ]
    }
   ],
   "source": [
    "try:\n",
    "    say_nick(\"천사\")\n",
    "    say_nick(\"바보\")\n",
    "except MyError as e:\n",
    "    print(e)\n",
    "\n",
    "# 프로그램을 실행시켜 보면 print(e)로 오류 메시지가 출력되지 않는 것을 확인할 수 있다.\n",
    "# 오류 메시지를 출력했을 때, 오류 메시지가 보이게 하려면 오류 클래스에 \n",
    "# __str__ 메서드를 구현해야 한다.\n",
    "# __str__ 메서드는 print(e) 처럼\n",
    "# 오류 메시지를 print문으로 출력할 경우에 호출되는 메서드이다."
   ]
  },
  {
   "cell_type": "code",
   "execution_count": 18,
   "metadata": {},
   "outputs": [
    {
     "name": "stdout",
     "output_type": "stream",
     "text": [
      "천사\n",
      "허용되지 않는 별명입니다.\n"
     ]
    }
   ],
   "source": [
    "class MyError(Exception):\n",
    "    def __str__(self):\n",
    "        return \"허용되지 않는 별명입니다.\"\n",
    "\n",
    "try:\n",
    "    say_nick(\"천사\")\n",
    "    say_nick(\"바보\")\n",
    "except MyError as e:\n",
    "    print(e)"
   ]
  }
 ],
 "metadata": {
  "kernelspec": {
   "display_name": "base",
   "language": "python",
   "name": "python3"
  },
  "language_info": {
   "codemirror_mode": {
    "name": "ipython",
    "version": 3
   },
   "file_extension": ".py",
   "mimetype": "text/x-python",
   "name": "python",
   "nbconvert_exporter": "python",
   "pygments_lexer": "ipython3",
   "version": "3.9.12"
  },
  "orig_nbformat": 4,
  "vscode": {
   "interpreter": {
    "hash": "a7a68ff6df131d9ae7a0f60e2ded381d5113c51d2c465edd8572fa159edd1df8"
   }
  }
 },
 "nbformat": 4,
 "nbformat_minor": 2
}
