{
 "cells": [
  {
   "cell_type": "code",
   "execution_count": 1,
   "metadata": {},
   "outputs": [
    {
     "data": {
      "text/plain": [
       "['c:\\\\Users\\\\Y\\\\Desktop\\\\my_worksapce\\\\MyPython\\\\JumpToPython',\n",
       " 'c:\\\\Users\\\\Y\\\\anaconda3\\\\python39.zip',\n",
       " 'c:\\\\Users\\\\Y\\\\anaconda3\\\\DLLs',\n",
       " 'c:\\\\Users\\\\Y\\\\anaconda3\\\\lib',\n",
       " 'c:\\\\Users\\\\Y\\\\anaconda3',\n",
       " '',\n",
       " 'C:\\\\Users\\\\Y\\\\AppData\\\\Roaming\\\\Python\\\\Python39\\\\site-packages',\n",
       " 'c:\\\\Users\\\\Y\\\\anaconda3\\\\lib\\\\site-packages',\n",
       " 'c:\\\\Users\\\\Y\\\\anaconda3\\\\lib\\\\site-packages\\\\win32',\n",
       " 'c:\\\\Users\\\\Y\\\\anaconda3\\\\lib\\\\site-packages\\\\win32\\\\lib',\n",
       " 'c:\\\\Users\\\\Y\\\\anaconda3\\\\lib\\\\site-packages\\\\Pythonwin']"
      ]
     },
     "execution_count": 1,
     "metadata": {},
     "output_type": "execute_result"
    }
   ],
   "source": [
    "import sys\n",
    "\n",
    "sys.path\n",
    "# sys.path는 파이썬 라이브러리가 설치되어 있는 디렉터리를 보여준다.\n",
    "# 만일 파이썬 모듈이 위 디렉터리에 들어 있다면, 모듈이 저장된 디렉터리로 이동할 필요없이 바로 불러서 사용할 수 있다.\n",
    "# 그렇다면 sys.path에 mymod 디렉터리를 추가하면 아무 곳에서나 불러 사용할 수 있지 않을까?\n",
    "\n",
    "# 당연하다. sys.path는 리스트 이므로 우리는 다음과 같이 할 수 있다.\n",
    "# sys.path.append(\"파일경로\")\n",
    "# 이렇게 하면 import mod2\n",
    "# print(mod2.add(3, 4)) 이렇게 잘 사용할 수 있다."
   ]
  },
  {
   "cell_type": "code",
   "execution_count": null,
   "metadata": {},
   "outputs": [],
   "source": [
    "# 모듈을 불러와서 사용하는 또 다른 방법으로 \n",
    "# PYHONPATH 환경변수를 사용하는 방법이 있다.\n",
    "# set PYTHONPATH=파일경로\n",
    "# python\n",
    "# 맥이나 유닉스 환경에서는 set 대신 export 명령을 사용해야 한다."
   ]
  }
 ],
 "metadata": {
  "kernelspec": {
   "display_name": "base",
   "language": "python",
   "name": "python3"
  },
  "language_info": {
   "codemirror_mode": {
    "name": "ipython",
    "version": 3
   },
   "file_extension": ".py",
   "mimetype": "text/x-python",
   "name": "python",
   "nbconvert_exporter": "python",
   "pygments_lexer": "ipython3",
   "version": "3.9.12"
  },
  "orig_nbformat": 4,
  "vscode": {
   "interpreter": {
    "hash": "a7a68ff6df131d9ae7a0f60e2ded381d5113c51d2c465edd8572fa159edd1df8"
   }
  }
 },
 "nbformat": 4,
 "nbformat_minor": 2
}
