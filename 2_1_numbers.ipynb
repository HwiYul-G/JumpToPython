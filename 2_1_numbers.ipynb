{
 "cells": [
  {
   "cell_type": "code",
   "execution_count": null,
   "metadata": {},
   "outputs": [],
   "source": [
    "# A numeric type is a data type that consists of numbers\n",
    "# Number : Integer, Real, Octal, Hexadecimal"
   ]
  },
  {
   "cell_type": "code",
   "execution_count": 1,
   "metadata": {},
   "outputs": [
    {
     "name": "stdout",
     "output_type": "stream",
     "text": [
      "123\n",
      "-178\n",
      "0\n"
     ]
    }
   ],
   "source": [
    "# Integer\n",
    "a = 123\n",
    "print(a)\n",
    "a = -178\n",
    "print(a)\n",
    "a = 0\n",
    "print(a)"
   ]
  },
  {
   "cell_type": "code",
   "execution_count": 2,
   "metadata": {},
   "outputs": [
    {
     "name": "stdout",
     "output_type": "stream",
     "text": [
      "1.2\n",
      "-3.45\n",
      "42400000000.0\n",
      "4.24e-10\n"
     ]
    }
   ],
   "source": [
    "# Float\n",
    "a = 1.2\n",
    "print(a)\n",
    "a = -3.45\n",
    "print(a)\n",
    "\n",
    "# This is scientific notation for exponential expression\n",
    "b = 4.24E10 # 4.24 * 10^10\n",
    "print(b)\n",
    "b = 4.24e-10 # 4.24 * 10^-10\n",
    "print(b)"
   ]
  },
  {
   "cell_type": "code",
   "execution_count": 3,
   "metadata": {},
   "outputs": [
    {
     "name": "stdout",
     "output_type": "stream",
     "text": [
      "127\n",
      "64\n",
      "2303\n",
      "2748\n"
     ]
    }
   ],
   "source": [
    "# Octal, Hexadecimal\n",
    "\n",
    "# Octal(8진수) : It starts with 0o or 0O\n",
    "a = 0o177\n",
    "print(a)\n",
    "a = 0O100\n",
    "print(a)\n",
    "\n",
    "# Hexadecimal(16진수) : It starts with 0x or 0X\n",
    "b = 0x8ff\n",
    "print(b)\n",
    "b = 0XABC\n",
    "print(b)"
   ]
  },
  {
   "cell_type": "code",
   "execution_count": 4,
   "metadata": {},
   "outputs": [
    {
     "name": "stdout",
     "output_type": "stream",
     "text": [
      "7\n",
      "-1\n",
      "12\n",
      "0.75\n",
      "81\n",
      "1\n",
      "1\n"
     ]
    }
   ],
   "source": [
    "# Operator for Number\n",
    "\n",
    "# four fundamental artihmetic operations\n",
    "a = 3; b = 4;\n",
    "print(a+b)\n",
    "print(a-b)\n",
    "print(a*b)\n",
    "print(a/b)\n",
    "\n",
    "# x**y : x to the power of y\n",
    "print(a**4)\n",
    "\n",
    "# x%y : remainder of x/y\n",
    "print(7%3)\n",
    "\n",
    "# x//y : quotient of x/y\n",
    "print(7//4)"
   ]
  }
 ],
 "metadata": {
  "kernelspec": {
   "display_name": "base",
   "language": "python",
   "name": "python3"
  },
  "language_info": {
   "codemirror_mode": {
    "name": "ipython",
    "version": 3
   },
   "file_extension": ".py",
   "mimetype": "text/x-python",
   "name": "python",
   "nbconvert_exporter": "python",
   "pygments_lexer": "ipython3",
   "version": "3.9.12"
  },
  "orig_nbformat": 4,
  "vscode": {
   "interpreter": {
    "hash": "a7a68ff6df131d9ae7a0f60e2ded381d5113c51d2c465edd8572fa159edd1df8"
   }
  }
 },
 "nbformat": 4,
 "nbformat_minor": 2
}
