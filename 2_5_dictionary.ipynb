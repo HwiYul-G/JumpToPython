{
 "cells": [
  {
   "cell_type": "code",
   "execution_count": 1,
   "metadata": {},
   "outputs": [],
   "source": [
    "# Pyton's dictionary is a data type with corresponding relationship\n",
    "# those are 'associative array' or 'hash' in other languages\n",
    "# {key1:val1, key2:val2, ...}\n",
    "dic = {'name':'pey', 'phone':'0119993323', 'birth':'1118'}\n",
    "a = {1:'hi'}\n",
    "b = {'a':[1,2,3]}"
   ]
  },
  {
   "cell_type": "code",
   "execution_count": 5,
   "metadata": {},
   "outputs": [
    {
     "name": "stdout",
     "output_type": "stream",
     "text": [
      "{1: 'a', 2: 'b'}\n",
      "{1: 'a', 2: 'b', 'name': 'pey'}\n",
      "{1: 'a', 2: 'b', 'name': 'pey', 3: [1, 2, 3]}\n"
     ]
    }
   ],
   "source": [
    "# add a pair of key and value to dictionary\n",
    "a = {1:'a'}\n",
    "a[2] = 'b' # a[key] = value\n",
    "print(a)\n",
    "\n",
    "a['name'] = 'pey'\n",
    "print(a)\n",
    "\n",
    "a[3] = [1, 2, 3]\n",
    "print(a)"
   ]
  },
  {
   "cell_type": "code",
   "execution_count": 6,
   "metadata": {},
   "outputs": [
    {
     "name": "stdout",
     "output_type": "stream",
     "text": [
      "{2: 'b', 'name': 'pey', 3: [1, 2, 3]}\n"
     ]
    }
   ],
   "source": [
    "del a[1]\n",
    "print(a)"
   ]
  },
  {
   "cell_type": "code",
   "execution_count": 7,
   "metadata": {},
   "outputs": [],
   "source": [
    "dic = {\"김연아\":\"피겨스케이팅\", \"류현진\":\"야구\", \"손흥민\":\"축구\", \"귀도\":\"파이썬\"}"
   ]
  },
  {
   "cell_type": "code",
   "execution_count": null,
   "metadata": {},
   "outputs": [],
   "source": []
  }
 ],
 "metadata": {
  "kernelspec": {
   "display_name": "base",
   "language": "python",
   "name": "python3"
  },
  "language_info": {
   "codemirror_mode": {
    "name": "ipython",
    "version": 3
   },
   "file_extension": ".py",
   "mimetype": "text/x-python",
   "name": "python",
   "nbconvert_exporter": "python",
   "pygments_lexer": "ipython3",
   "version": "3.9.12"
  },
  "orig_nbformat": 4,
  "vscode": {
   "interpreter": {
    "hash": "a7a68ff6df131d9ae7a0f60e2ded381d5113c51d2c465edd8572fa159edd1df8"
   }
  }
 },
 "nbformat": 4,
 "nbformat_minor": 2
}
