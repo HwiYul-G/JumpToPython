{
 "cells": [
  {
   "cell_type": "code",
   "execution_count": 1,
   "metadata": {},
   "outputs": [],
   "source": [
    "# 값을 입력받을 때는 사용자가 직접 입력하는 방식을 사용했고\n",
    "# 출력할 때는 모니터 화면에 결괏값을 출력하는 방식을 사용했다.\n",
    "# 하지만, 입출력 방법이 이것만 있는 것이 아니다.\n",
    "\n",
    "# '파일'을 통한 입출력을 알아보자.\n",
    "\n",
    "# 파일을 새로 만든 다음 프로그램이 만든 결괏값을 새 파일에 적어 보자.\n",
    "# 또 파일에 적은 내용을 읽고, 새로운 내용울 추가하는 것도 알아보자."
   ]
  },
  {
   "cell_type": "code",
   "execution_count": 3,
   "metadata": {},
   "outputs": [],
   "source": [
    "# 파일 생성하기\n",
    "f = open(\"new_file.txt\", 'w')\n",
    "f.close()\n",
    "\n",
    "# 파일 객체 = open(파일 이름, 파일 열기 모드)\n",
    "# r : 읽기 모드 - 파일을 읽기만 할 때 사용\n",
    "# w : 쓰기 모드 - 파일에 내용을 쓸 때 사용\n",
    "# a : 추가 모드 - 파일의 마지막에 새로운 내용을 추가 시킬 때 사용\n",
    "\n",
    "# 파일을 w(쓰기모드)로 열면 해당 파일이 이미 존재할 경우\n",
    "# 원래 있던 내용이 모두 사라지고, 해당 파일이 존재하지 않으면 새로운 파일이 생성된다.\n",
    "\n",
    "# 파일 경로와 슬래시\n",
    "# 파이썬 코드에서 파일 경로를 표시할 때 \"C:/A/new_file.txt\"처럼 슬래스(/)를 사용할 수 있다.\n",
    "# 만약 역슬래시(\\)를 사용한다면 \"C:\\\\A\\\\new_file.txt\"처럼 역슬래시를 두 번 써야 한다.\n",
    "# 혹은 문자열 앞에 r 문자(Raw String)을 더숱여 사용해야 한다.\n",
    "# 왜냐하면 \"C:\\n\\new_file.txt\"처럼 파일 경로에 \\n과 같은 이스케이프 문자가 있을 경우\n",
    "# 줄바꿈 문자로 해석되어 의도했던 파일 경로와 달라지기 때문이다."
   ]
  },
  {
   "cell_type": "code",
   "execution_count": 4,
   "metadata": {},
   "outputs": [],
   "source": [
    "# 파일을 쓰기 모드로 열어 내용 쓰기\n",
    "f = open(\"new_file1.txt\", 'w')\n",
    "for i in range(1, 11):\n",
    "    data = \"%d번째 줄입니다.\\n\" % i\n",
    "    f.write(data)\n",
    "f.close()\n",
    "# 명령 프롬프트 창에서 첫 번째 예제를 실행해 보자\n",
    "# cd 파일경로\n",
    "# python 파일이름.py"
   ]
  },
  {
   "cell_type": "code",
   "execution_count": 5,
   "metadata": {},
   "outputs": [
    {
     "name": "stdout",
     "output_type": "stream",
     "text": [
      "1번째 줄입니다. \n",
      "\n",
      "2번째 줄입니다. \n",
      "\n",
      "3번째 줄입니다. \n",
      "\n",
      "4번째 줄입니다. \n",
      "\n",
      "5번째 줄입니다. \n",
      "\n",
      "6번째 줄입니다. \n",
      "\n",
      "7번째 줄입니다. \n",
      "\n",
      "8번째 줄입니다. \n",
      "\n",
      "9번째 줄입니다. \n",
      "\n",
      "10번째 줄입니다. \n",
      "\n"
     ]
    }
   ],
   "source": [
    "for i in range(1, 11):\n",
    "    data = \"%d번째 줄입니다. \\n\" % i\n",
    "    print(data)\n",
    "# 이 방법은 모니터에 파일을 출력하는 방법이다."
   ]
  },
  {
   "cell_type": "code",
   "execution_count": 7,
   "metadata": {},
   "outputs": [
    {
     "name": "stdout",
     "output_type": "stream",
     "text": [
      "1번째 줄입니다.\n",
      "\n"
     ]
    }
   ],
   "source": [
    "# 파일을 읽는 여러 가지 방법\n",
    "# 1) readline() 함수 이용하기\n",
    "f = open(r\"C:\\Users\\Y\\Desktop\\my_worksapce\\MyPython\\JumpToPython\\new_file1.txt\", 'r')\n",
    "line = f.readline()\n",
    "print(line)\n",
    "f.close()"
   ]
  },
  {
   "cell_type": "code",
   "execution_count": 9,
   "metadata": {},
   "outputs": [
    {
     "name": "stdout",
     "output_type": "stream",
     "text": [
      "1번째 줄입니다.\n",
      "\n",
      "2번째 줄입니다.\n",
      "\n",
      "3번째 줄입니다.\n",
      "\n",
      "4번째 줄입니다.\n",
      "\n",
      "5번째 줄입니다.\n",
      "\n",
      "6번째 줄입니다.\n",
      "\n",
      "7번째 줄입니다.\n",
      "\n",
      "8번째 줄입니다.\n",
      "\n",
      "9번째 줄입니다.\n",
      "\n",
      "10번째 줄입니다.\n",
      "\n"
     ]
    }
   ],
   "source": [
    "f = open(r\"C:\\Users\\Y\\Desktop\\my_worksapce\\MyPython\\JumpToPython\\new_file1.txt\", 'r')\n",
    "while True:\n",
    "    line = f.readline()\n",
    "    if not line: break\n",
    "    print(line)\n",
    "f.close()\n",
    "# while True:라는 무한 루프 안에서 f.readline()을 사용해 파일을 계속해서 한 줄 씩 읽어들인다.\n",
    "# 이렇게 한 줄 씩 읽어 출력할 때 줄 끝에 \\n 문자가 있으므로 빈줄도 같이 출력된다."
   ]
  },
  {
   "cell_type": "code",
   "execution_count": 10,
   "metadata": {},
   "outputs": [
    {
     "name": "stdout",
     "output_type": "stream",
     "text": [
      "a\n",
      "b\n"
     ]
    }
   ],
   "source": [
    "while True:\n",
    "    data = input()\n",
    "    if not data: break\n",
    "    print(data)"
   ]
  },
  {
   "cell_type": "code",
   "execution_count": 11,
   "metadata": {},
   "outputs": [
    {
     "name": "stdout",
     "output_type": "stream",
     "text": [
      "1번째 줄입니다.\n",
      "\n",
      "2번째 줄입니다.\n",
      "\n",
      "3번째 줄입니다.\n",
      "\n",
      "4번째 줄입니다.\n",
      "\n",
      "5번째 줄입니다.\n",
      "\n",
      "6번째 줄입니다.\n",
      "\n",
      "7번째 줄입니다.\n",
      "\n",
      "8번째 줄입니다.\n",
      "\n",
      "9번째 줄입니다.\n",
      "\n",
      "10번째 줄입니다.\n",
      "\n"
     ]
    }
   ],
   "source": [
    "# readlines 함수 사용하기\n",
    "f = open(\"new_file1.txt\", 'r')\n",
    "lines = f.readlines()\n",
    "for line in lines:\n",
    "    print(line)\n",
    "f.close()\n",
    "# readlines() 는 파일의 모든 줄을 읽어서 각 줄을 요소로 가즌ㄴ 리스트를 리턴한다.\n",
    "# 따라서 위의 예에서 lines는 리스트 [\"1 번째 주입니다.\\n\", \"2 번재 줄입니다.\\n\", ..]가 된다."
   ]
  },
  {
   "cell_type": "code",
   "execution_count": 12,
   "metadata": {},
   "outputs": [
    {
     "name": "stdout",
     "output_type": "stream",
     "text": [
      "1번째 줄입니다.\n",
      "2번째 줄입니다.\n",
      "3번째 줄입니다.\n",
      "4번째 줄입니다.\n",
      "5번째 줄입니다.\n",
      "6번째 줄입니다.\n",
      "7번째 줄입니다.\n",
      "8번째 줄입니다.\n",
      "9번째 줄입니다.\n",
      "10번째 줄입니다.\n"
     ]
    }
   ],
   "source": [
    "# 줄 바꿈 문자(\\n) 제거하기\n",
    "f = open(\"new_file1.txt\", 'r')\n",
    "lines = f.readlines()\n",
    "for line in lines:\n",
    "    line = line.strip() # 줄 끝의 줄 바꿈 문자를 제거한다.\n",
    "    print(line)\n",
    "f.close()"
   ]
  },
  {
   "cell_type": "code",
   "execution_count": 13,
   "metadata": {},
   "outputs": [
    {
     "name": "stdout",
     "output_type": "stream",
     "text": [
      "1번째 줄입니다.\n",
      "2번째 줄입니다.\n",
      "3번째 줄입니다.\n",
      "4번째 줄입니다.\n",
      "5번째 줄입니다.\n",
      "6번째 줄입니다.\n",
      "7번째 줄입니다.\n",
      "8번째 줄입니다.\n",
      "9번째 줄입니다.\n",
      "10번째 줄입니다.\n",
      "\n"
     ]
    }
   ],
   "source": [
    "# read 함수 사용하기\n",
    "f = open(\"new_file1.txt\", 'r')\n",
    "\n",
    "# f.read()는 파일 내용 전체를 문자열로 리턴한다.\n",
    "# 따라서 위 예의 data는 파일의 전체 내용이다.\n",
    "data = f.read()\n",
    "print(data)\n",
    "f.close()"
   ]
  },
  {
   "cell_type": "code",
   "execution_count": 14,
   "metadata": {},
   "outputs": [
    {
     "name": "stdout",
     "output_type": "stream",
     "text": [
      "1번째 줄입니다.\n",
      "\n",
      "2번째 줄입니다.\n",
      "\n",
      "3번째 줄입니다.\n",
      "\n",
      "4번째 줄입니다.\n",
      "\n",
      "5번째 줄입니다.\n",
      "\n",
      "6번째 줄입니다.\n",
      "\n",
      "7번째 줄입니다.\n",
      "\n",
      "8번째 줄입니다.\n",
      "\n",
      "9번째 줄입니다.\n",
      "\n",
      "10번째 줄입니다.\n",
      "\n"
     ]
    }
   ],
   "source": [
    "# 파일 객체를 for문과 함께 사용하기\n",
    "f = open(\"new_file1.txt\", 'r')\n",
    "for line in f:\n",
    "    print(line)\n",
    "f.close()\n",
    "\n",
    "# 파일 객체 f는 기본적으로 for문과 함께 사용해 파일을 줄 단위로 읽을 수 있다."
   ]
  },
  {
   "cell_type": "code",
   "execution_count": 15,
   "metadata": {},
   "outputs": [],
   "source": [
    "# 파일에 새로운 내용 추가하기\n",
    "# 파일을 쓰기 모드('w')로 열면 해당 파일이 이미 존재할 경우 원래 있던 내용이 모두 사라지게 된다.\n",
    "# 파일을 추가 모드('a')로 열면 된다.\n",
    "\n",
    "f = open(\"new_file1.txt\", 'a')\n",
    "for i in range(11, 20):\n",
    "    data = \"%d번째 줄입니다.\\n\" % i\n",
    "    f.write(data)\n",
    "f.close()"
   ]
  },
  {
   "cell_type": "code",
   "execution_count": 17,
   "metadata": {},
   "outputs": [
    {
     "name": "stdout",
     "output_type": "stream",
     "text": [
      "['Life is too short, you need python']\n",
      "\n"
     ]
    }
   ],
   "source": [
    "# with문과 함께 사용하기\n",
    "# 파일을 open하면 항상 close 해주어야 한다.\n",
    "# with문을 이용해서 파일을 열고 닫는 것을 자동으로 처리할 수 있다.\n",
    "with open(\"new_file.txt\", 'w') as f:\n",
    "    f.write(\"Life is too short, you need python\")\n",
    "# with 문을 사용하면 with 블록을 벗어나는 순간 열린 파일 객체 f가 자동 close 된다.\n",
    "with open(\"new_file.txt\", \"r\") as f:\n",
    "    data = f.readlines()\n",
    "    print(data)\n",
    "    data = f.readline()\n",
    "    print(data)"
   ]
  }
 ],
 "metadata": {
  "kernelspec": {
   "display_name": "base",
   "language": "python",
   "name": "python3"
  },
  "language_info": {
   "codemirror_mode": {
    "name": "ipython",
    "version": 3
   },
   "file_extension": ".py",
   "mimetype": "text/x-python",
   "name": "python",
   "nbconvert_exporter": "python",
   "pygments_lexer": "ipython3",
   "version": "3.9.12"
  },
  "orig_nbformat": 4,
  "vscode": {
   "interpreter": {
    "hash": "a7a68ff6df131d9ae7a0f60e2ded381d5113c51d2c465edd8572fa159edd1df8"
   }
  }
 },
 "nbformat": 4,
 "nbformat_minor": 2
}
