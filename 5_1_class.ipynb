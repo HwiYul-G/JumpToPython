{
 "cells": [
  {
   "cell_type": "code",
   "execution_count": 2,
   "metadata": {},
   "outputs": [
    {
     "data": {
      "text/plain": [
       "__main__.FourCal"
      ]
     },
     "execution_count": 2,
     "metadata": {},
     "output_type": "execute_result"
    }
   ],
   "source": [
    "class FourCal:\n",
    "    pass\n",
    "\n",
    "a = FourCal()\n",
    "type(a)"
   ]
  },
  {
   "cell_type": "code",
   "execution_count": 3,
   "metadata": {},
   "outputs": [],
   "source": [
    "class FourCal:\n",
    "    def setdata(self, first, second):\n",
    "        self.first = first\n",
    "        self.second = second\n",
    "# 일반 함수와 달리, 메서드의 첫 번째 매개변수 self는 특별한 의미를 가진다.\n",
    "a = FourCal()\n",
    "a.setdata(4, 2)\n",
    "\n",
    "# setdata 메서드에서 self, first, second 총 3개의 매개변수가 필요한데,\n",
    "# 실제로는 2개만 전달했다.\n",
    "# 그 이유는 a.setdata(4, 2)처럼 2개 값만 전달했다.\n",
    "# self에는 setdata 메서드를 호출한 객체 a가 자동으로 전달되기 때문이다.\n",
    "# a.setdata(4, 2)에서 self로 a가 전달된다.\n",
    "\n",
    "# 따라서 아래와 같이 메서드를 호출할 수도 있다.\n",
    "a = FourCal()\n",
    "FourCal.setdata(a, 4, 2)"
   ]
  },
  {
   "cell_type": "code",
   "execution_count": 4,
   "metadata": {},
   "outputs": [
    {
     "name": "stdout",
     "output_type": "stream",
     "text": [
      "4\n",
      "2\n"
     ]
    }
   ],
   "source": [
    "a = FourCal()\n",
    "a.setdata(4, 2)\n",
    "print(a.first)\n",
    "print(a.second)"
   ]
  },
  {
   "cell_type": "code",
   "execution_count": 6,
   "metadata": {},
   "outputs": [
    {
     "name": "stdout",
     "output_type": "stream",
     "text": [
      "4\n",
      "3\n"
     ]
    }
   ],
   "source": [
    "a = FourCal()\n",
    "b = FourCal()\n",
    "a.setdata(4, 2)\n",
    "print(a.first)\n",
    "b.setdata(3, 7)\n",
    "print(b.first)"
   ]
  },
  {
   "cell_type": "code",
   "execution_count": 8,
   "metadata": {},
   "outputs": [
    {
     "name": "stdout",
     "output_type": "stream",
     "text": [
      "6\n"
     ]
    }
   ],
   "source": [
    "class FourCal:\n",
    "    def setdata(self, first, second):\n",
    "        self.fisrt = first\n",
    "        self.second = second\n",
    "    def add(self):\n",
    "        result = self.fisrt + self.second\n",
    "        return result\n",
    "\n",
    "a = FourCal()\n",
    "a.setdata(4, 2)\n",
    "print(a.add())"
   ]
  },
  {
   "cell_type": "code",
   "execution_count": 9,
   "metadata": {},
   "outputs": [
    {
     "name": "stdout",
     "output_type": "stream",
     "text": [
      "6\n",
      "2\n",
      "2.0\n",
      "8\n",
      "11\n",
      "-5\n",
      "24\n",
      "0.375\n"
     ]
    }
   ],
   "source": [
    "class FourCal:\n",
    "    def setdata(self, first, second):\n",
    "        self.fisrt = first\n",
    "        self.second = second\n",
    "    def add(self):\n",
    "        result = self.fisrt + self.second\n",
    "        return result\n",
    "    def sub(self):\n",
    "        result = self.fisrt - self.second\n",
    "        return result\n",
    "    def mul(self):\n",
    "        result = self.fisrt * self.second\n",
    "        return result\n",
    "    def div(self):\n",
    "        result = self.fisrt / self.second\n",
    "        return result\n",
    "\n",
    "a = FourCal()\n",
    "b = FourCal()\n",
    "a.setdata(4, 2)\n",
    "b.setdata(3, 8)\n",
    "print(a.add())\n",
    "print(a.sub())\n",
    "print(a.div())\n",
    "print(a.mul())\n",
    "print(b.add())\n",
    "print(b.sub())\n",
    "print(b.mul())\n",
    "print(b.div())"
   ]
  },
  {
   "cell_type": "code",
   "execution_count": 10,
   "metadata": {},
   "outputs": [
    {
     "ename": "AttributeError",
     "evalue": "'FourCal' object has no attribute 'fisrt'",
     "output_type": "error",
     "traceback": [
      "\u001b[1;31m---------------------------------------------------------------------------\u001b[0m",
      "\u001b[1;31mAttributeError\u001b[0m                            Traceback (most recent call last)",
      "\u001b[1;32mc:\\Users\\Y\\Desktop\\my_worksapce\\MyPython\\JumpToPython\\5_1_class.ipynb Cell 7\u001b[0m in \u001b[0;36m<cell line: 4>\u001b[1;34m()\u001b[0m\n\u001b[0;32m      <a href='vscode-notebook-cell:/c%3A/Users/Y/Desktop/my_worksapce/MyPython/JumpToPython/5_1_class.ipynb#W6sZmlsZQ%3D%3D?line=0'>1</a>\u001b[0m a \u001b[39m=\u001b[39m FourCal()\n\u001b[0;32m      <a href='vscode-notebook-cell:/c%3A/Users/Y/Desktop/my_worksapce/MyPython/JumpToPython/5_1_class.ipynb#W6sZmlsZQ%3D%3D?line=1'>2</a>\u001b[0m \u001b[39m# a.setdata(4, 2) method를 먼저 수행하지 않고, add 메서드를 먼저 수행하면\u001b[39;00m\n\u001b[0;32m      <a href='vscode-notebook-cell:/c%3A/Users/Y/Desktop/my_worksapce/MyPython/JumpToPython/5_1_class.ipynb#W6sZmlsZQ%3D%3D?line=2'>3</a>\u001b[0m \u001b[39m# AttributeError: 'FourCal' object has no attribute 'first' 오류가 발생한다.\u001b[39;00m\n\u001b[1;32m----> <a href='vscode-notebook-cell:/c%3A/Users/Y/Desktop/my_worksapce/MyPython/JumpToPython/5_1_class.ipynb#W6sZmlsZQ%3D%3D?line=3'>4</a>\u001b[0m a\u001b[39m.\u001b[39;49madd()\n",
      "\u001b[1;32mc:\\Users\\Y\\Desktop\\my_worksapce\\MyPython\\JumpToPython\\5_1_class.ipynb Cell 7\u001b[0m in \u001b[0;36mFourCal.add\u001b[1;34m(self)\u001b[0m\n\u001b[0;32m      <a href='vscode-notebook-cell:/c%3A/Users/Y/Desktop/my_worksapce/MyPython/JumpToPython/5_1_class.ipynb#W6sZmlsZQ%3D%3D?line=4'>5</a>\u001b[0m \u001b[39mdef\u001b[39;00m \u001b[39madd\u001b[39m(\u001b[39mself\u001b[39m):\n\u001b[1;32m----> <a href='vscode-notebook-cell:/c%3A/Users/Y/Desktop/my_worksapce/MyPython/JumpToPython/5_1_class.ipynb#W6sZmlsZQ%3D%3D?line=5'>6</a>\u001b[0m     result \u001b[39m=\u001b[39m \u001b[39mself\u001b[39;49m\u001b[39m.\u001b[39;49mfisrt \u001b[39m+\u001b[39m \u001b[39mself\u001b[39m\u001b[39m.\u001b[39msecond\n\u001b[0;32m      <a href='vscode-notebook-cell:/c%3A/Users/Y/Desktop/my_worksapce/MyPython/JumpToPython/5_1_class.ipynb#W6sZmlsZQ%3D%3D?line=6'>7</a>\u001b[0m     \u001b[39mreturn\u001b[39;00m result\n",
      "\u001b[1;31mAttributeError\u001b[0m: 'FourCal' object has no attribute 'fisrt'"
     ]
    }
   ],
   "source": [
    "a = FourCal()\n",
    "# a.setdata(4, 2) method를 먼저 수행하지 않고, add 메서드를 먼저 수행하면\n",
    "# AttributeError: 'FourCal' object has no attribute 'first' 오류가 발생한다.\n",
    "a.add()"
   ]
  },
  {
   "cell_type": "code",
   "execution_count": 11,
   "metadata": {},
   "outputs": [],
   "source": [
    "# 이렇게 객체에 first, second와 같은 초깃값을 설정해야 할 필요가 있다.\n",
    "# 생성자(Constructor)란 객체가 생성될 대 자동으로 호출되는 메서드이고\n",
    "# 파이선 메서드 이름으로 __init__을 사용하면 이 메서드는 생성자가 된다.\n",
    "class FourCal:\n",
    "    def __init__(self, first, second):\n",
    "        self.first = first\n",
    "        self.second = second\n",
    "    def setdat(self, first, second):\n",
    "        self.first = first\n",
    "        self.second = second\n",
    "    def add(self):\n",
    "        result = self.first + self.second\n",
    "        return result\n",
    "    def mul(self):\n",
    "        result = self.first * self.second\n",
    "        return result\n",
    "    def sub(self):\n",
    "        result = self.first - self.second\n",
    "        return result\n",
    "    def div(self):\n",
    "        result = self.first / self.second\n",
    "        return result"
   ]
  },
  {
   "cell_type": "code",
   "execution_count": 12,
   "metadata": {},
   "outputs": [
    {
     "ename": "TypeError",
     "evalue": "__init__() missing 2 required positional arguments: 'first' and 'second'",
     "output_type": "error",
     "traceback": [
      "\u001b[1;31m---------------------------------------------------------------------------\u001b[0m",
      "\u001b[1;31mTypeError\u001b[0m                                 Traceback (most recent call last)",
      "\u001b[1;32mc:\\Users\\Y\\Desktop\\my_worksapce\\MyPython\\JumpToPython\\5_1_class.ipynb Cell 9\u001b[0m in \u001b[0;36m<cell line: 4>\u001b[1;34m()\u001b[0m\n\u001b[0;32m      <a href='vscode-notebook-cell:/c%3A/Users/Y/Desktop/my_worksapce/MyPython/JumpToPython/5_1_class.ipynb#X11sZmlsZQ%3D%3D?line=0'>1</a>\u001b[0m \u001b[39m# __init__ 메서드는 setdata 메서드와 이름만 다르고 모든 것이 동일하다.\u001b[39;00m\n\u001b[0;32m      <a href='vscode-notebook-cell:/c%3A/Users/Y/Desktop/my_worksapce/MyPython/JumpToPython/5_1_class.ipynb#X11sZmlsZQ%3D%3D?line=1'>2</a>\u001b[0m \u001b[39m# 단, 메서드 이름을 __init__으로 했기 때문에 생성자로 인식되어\u001b[39;00m\n\u001b[0;32m      <a href='vscode-notebook-cell:/c%3A/Users/Y/Desktop/my_worksapce/MyPython/JumpToPython/5_1_class.ipynb#X11sZmlsZQ%3D%3D?line=2'>3</a>\u001b[0m \u001b[39m# 객체가 생성되는 시점에 자동으로 호출되는 차이가 있다.\u001b[39;00m\n\u001b[1;32m----> <a href='vscode-notebook-cell:/c%3A/Users/Y/Desktop/my_worksapce/MyPython/JumpToPython/5_1_class.ipynb#X11sZmlsZQ%3D%3D?line=3'>4</a>\u001b[0m a \u001b[39m=\u001b[39m FourCal()\n",
      "\u001b[1;31mTypeError\u001b[0m: __init__() missing 2 required positional arguments: 'first' and 'second'"
     ]
    }
   ],
   "source": [
    "# __init__ 메서드는 setdata 메서드와 이름만 다르고 모든 것이 동일하다.\n",
    "# 단, 메서드 이름을 __init__으로 했기 때문에 생성자로 인식되어\n",
    "# 객체가 생성되는 시점에 자동으로 호출되는 차이가 있다.\n",
    "a = FourCal()\n",
    "# 생성자 매개변수 first, second에 해당하는 값이 전달되지 않아서 오류가 발생한다."
   ]
  },
  {
   "cell_type": "code",
   "execution_count": 14,
   "metadata": {},
   "outputs": [
    {
     "name": "stdout",
     "output_type": "stream",
     "text": [
      "4\n",
      "2\n"
     ]
    }
   ],
   "source": [
    "a = FourCal(4, 2)\n",
    "# 위와 같이 수행하면 __init__ 메서드가 매개변수에는\n",
    "# self : 생성되는 객체\n",
    "# first : 4\n",
    "# second : 2\n",
    "print(a.first)\n",
    "print(a.second)"
   ]
  },
  {
   "cell_type": "code",
   "execution_count": 15,
   "metadata": {},
   "outputs": [
    {
     "name": "stdout",
     "output_type": "stream",
     "text": [
      "6\n",
      "2.0\n"
     ]
    }
   ],
   "source": [
    "a = FourCal(4,2)\n",
    "print(a.add())\n",
    "print(a.div())"
   ]
  },
  {
   "cell_type": "code",
   "execution_count": 16,
   "metadata": {},
   "outputs": [
    {
     "name": "stdout",
     "output_type": "stream",
     "text": [
      "6\n",
      "8\n",
      "2\n",
      "2.0\n"
     ]
    }
   ],
   "source": [
    "# 클래스의 상속\n",
    "# FourCal 클래스를 상속하는 MoreFourCal 클래스를 만들어보자.\n",
    "\n",
    "# 클래스를 상속하는 방법\n",
    "# class 클래스명(상속할 클래스 명)\n",
    "class MoreFourCal(FourCal):\n",
    "    pass\n",
    "\n",
    "\n",
    "# MoreFourCal 클래스는 FourCal 클래스를 상속했으므로\n",
    "# FourCal 클래스의 모든 기능을 사용할 수 있다.\n",
    "a = MoreFourCal(4, 2)\n",
    "print(a.add())\n",
    "print(a.mul())\n",
    "print(a.sub())\n",
    "print(a.div())"
   ]
  },
  {
   "cell_type": "code",
   "execution_count": 17,
   "metadata": {},
   "outputs": [
    {
     "name": "stdout",
     "output_type": "stream",
     "text": [
      "16\n",
      "6\n"
     ]
    }
   ],
   "source": [
    "# 왜 상속을 해야 할까?\n",
    "# 상속은 보통 기준 클래스를 변경하지 않고,\n",
    "# 기능을 추가하거나 기존 기능을 변경하려고 할 때 사용한다.\n",
    "class MoreFourCal(FourCal):\n",
    "    def pow(self):\n",
    "        result = self.first ** self.second\n",
    "        return result\n",
    "\n",
    "a = MoreFourCal(4, 2)\n",
    "print(a.pow())\n",
    "print(a.add())"
   ]
  },
  {
   "cell_type": "code",
   "execution_count": 18,
   "metadata": {},
   "outputs": [
    {
     "ename": "ZeroDivisionError",
     "evalue": "division by zero",
     "output_type": "error",
     "traceback": [
      "\u001b[1;31m---------------------------------------------------------------------------\u001b[0m",
      "\u001b[1;31mZeroDivisionError\u001b[0m                         Traceback (most recent call last)",
      "\u001b[1;32mc:\\Users\\Y\\Desktop\\my_worksapce\\MyPython\\JumpToPython\\5_1_class.ipynb Cell 14\u001b[0m in \u001b[0;36m<cell line: 3>\u001b[1;34m()\u001b[0m\n\u001b[0;32m      <a href='vscode-notebook-cell:/c%3A/Users/Y/Desktop/my_worksapce/MyPython/JumpToPython/5_1_class.ipynb#X16sZmlsZQ%3D%3D?line=0'>1</a>\u001b[0m \u001b[39m# 메서드 오버라이딩\u001b[39;00m\n\u001b[0;32m      <a href='vscode-notebook-cell:/c%3A/Users/Y/Desktop/my_worksapce/MyPython/JumpToPython/5_1_class.ipynb#X16sZmlsZQ%3D%3D?line=1'>2</a>\u001b[0m a \u001b[39m=\u001b[39m FourCal(\u001b[39m4\u001b[39m, \u001b[39m0\u001b[39m)\n\u001b[1;32m----> <a href='vscode-notebook-cell:/c%3A/Users/Y/Desktop/my_worksapce/MyPython/JumpToPython/5_1_class.ipynb#X16sZmlsZQ%3D%3D?line=2'>3</a>\u001b[0m \u001b[39mprint\u001b[39m(a\u001b[39m.\u001b[39;49mdiv())\n",
      "\u001b[1;32mc:\\Users\\Y\\Desktop\\my_worksapce\\MyPython\\JumpToPython\\5_1_class.ipynb Cell 14\u001b[0m in \u001b[0;36mFourCal.div\u001b[1;34m(self)\u001b[0m\n\u001b[0;32m     <a href='vscode-notebook-cell:/c%3A/Users/Y/Desktop/my_worksapce/MyPython/JumpToPython/5_1_class.ipynb#X16sZmlsZQ%3D%3D?line=19'>20</a>\u001b[0m \u001b[39mdef\u001b[39;00m \u001b[39mdiv\u001b[39m(\u001b[39mself\u001b[39m):\n\u001b[1;32m---> <a href='vscode-notebook-cell:/c%3A/Users/Y/Desktop/my_worksapce/MyPython/JumpToPython/5_1_class.ipynb#X16sZmlsZQ%3D%3D?line=20'>21</a>\u001b[0m     result \u001b[39m=\u001b[39m \u001b[39mself\u001b[39;49m\u001b[39m.\u001b[39;49mfirst \u001b[39m/\u001b[39;49m \u001b[39mself\u001b[39;49m\u001b[39m.\u001b[39;49msecond\n\u001b[0;32m     <a href='vscode-notebook-cell:/c%3A/Users/Y/Desktop/my_worksapce/MyPython/JumpToPython/5_1_class.ipynb#X16sZmlsZQ%3D%3D?line=21'>22</a>\u001b[0m     \u001b[39mreturn\u001b[39;00m result\n",
      "\u001b[1;31mZeroDivisionError\u001b[0m: division by zero"
     ]
    }
   ],
   "source": [
    "# 메서드 오버라이딩\n",
    "a = FourCal(4, 0)\n",
    "print(a.div())\n",
    "# FourCal 클래스의 객체 a에 4와 0 값을 설정하고\n",
    "# div 메서드를 호출하면 4를 0으로 나누려 하기 때문에\n",
    "# ZeroDivisionError 오류가 발생한다"
   ]
  },
  {
   "cell_type": "code",
   "execution_count": 19,
   "metadata": {},
   "outputs": [
    {
     "name": "stdout",
     "output_type": "stream",
     "text": [
      "0\n"
     ]
    }
   ],
   "source": [
    "# 하지만 0으로 나눌 때 오류가 아닌 0을 리턴하도록 만들고 싶다면 어떻게 해야 할까?\n",
    "class SafeFourCal(FourCal):\n",
    "    def div(self):\n",
    "        if self.second == 0:\n",
    "            return 0\n",
    "        else:\n",
    "            return self.first / self.second\n",
    "\n",
    "# SafeFourCal 클래스는 FourCal 클래스에 있는 div 메서드를 동일한 이름으로 다시 작성했다.\n",
    "# 이렇게 부모 클래스(상속한 클래스)에 있는 메서드를 동일한 이름으로 다시 만드는 것을\n",
    "# 메서드 오버라이딩(Overriding)이라고 한다.\n",
    "# 메서드를 오버라이딩하면 부모 클래스의 메서드 대신,\n",
    "# 오버라이딩한 메서드가 호출된다.\n",
    "\n",
    "a = SafeFourCal(4, 0)\n",
    "print(a.div())"
   ]
  },
  {
   "cell_type": "code",
   "execution_count": 21,
   "metadata": {},
   "outputs": [
    {
     "name": "stdout",
     "output_type": "stream",
     "text": [
      "김\n",
      "김\n",
      "김\n"
     ]
    }
   ],
   "source": [
    "# 클래스 변수\n",
    "# 객체 변수는 다른 객체들의 영향을 받지 않고 독립적으로 그 값을 유지한다는 점을 이미 알아보았다.\n",
    "class Family:\n",
    "    # 클래스 변수\n",
    "    lastname = \"김\"\n",
    "\n",
    "print(Family.lastname)\n",
    "\n",
    "a = Family()\n",
    "b = Family()\n",
    "print(a.lastname)\n",
    "print(b.lastname)"
   ]
  },
  {
   "cell_type": "code",
   "execution_count": 23,
   "metadata": {},
   "outputs": [
    {
     "name": "stdout",
     "output_type": "stream",
     "text": [
      "박\n",
      "김\n"
     ]
    }
   ],
   "source": [
    "a.lastname = \"박\"\n",
    "print(a.lastname)\n",
    "print(Family.lastname)"
   ]
  }
 ],
 "metadata": {
  "kernelspec": {
   "display_name": "base",
   "language": "python",
   "name": "python3"
  },
  "language_info": {
   "codemirror_mode": {
    "name": "ipython",
    "version": 3
   },
   "file_extension": ".py",
   "mimetype": "text/x-python",
   "name": "python",
   "nbconvert_exporter": "python",
   "pygments_lexer": "ipython3",
   "version": "3.9.12 (main, Apr  4 2022, 05:22:27) [MSC v.1916 64 bit (AMD64)]"
  },
  "orig_nbformat": 4,
  "vscode": {
   "interpreter": {
    "hash": "a7a68ff6df131d9ae7a0f60e2ded381d5113c51d2c465edd8572fa159edd1df8"
   }
  }
 },
 "nbformat": 4,
 "nbformat_minor": 2
}
