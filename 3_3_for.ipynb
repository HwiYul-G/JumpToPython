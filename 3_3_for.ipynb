{
 "cells": [
  {
   "cell_type": "code",
   "execution_count": 1,
   "metadata": {},
   "outputs": [
    {
     "name": "stdout",
     "output_type": "stream",
     "text": [
      "one\n",
      "two\n",
      "three\n"
     ]
    }
   ],
   "source": [
    "test_list = ['one', 'two', 'three']\n",
    "for i in test_list:\n",
    "    print(i)"
   ]
  },
  {
   "cell_type": "code",
   "execution_count": 2,
   "metadata": {},
   "outputs": [
    {
     "name": "stdout",
     "output_type": "stream",
     "text": [
      "3\n",
      "7\n",
      "11\n"
     ]
    }
   ],
   "source": [
    "a = [(1,2), (3,4), (5,6)]\n",
    "for (first, last) in a:\n",
    "    print(first + last)"
   ]
  },
  {
   "cell_type": "code",
   "execution_count": 3,
   "metadata": {},
   "outputs": [
    {
     "name": "stdout",
     "output_type": "stream",
     "text": [
      "1번 학생은 합격입니다.\n",
      "2번 학생은 불합격입니다.\n",
      "3번 학생은 합격입니다.\n",
      "4번 학생은 불합격입니다.\n",
      "5번 학생은 합격입니다.\n"
     ]
    }
   ],
   "source": [
    "marks = [90, 25, 67, 45, 80]\n",
    "\n",
    "number = 0\n",
    "for mark in marks:\n",
    "    number = number + 1\n",
    "    if mark >= 60:\n",
    "        print(\"%d번 학생은 합격입니다.\" % number)\n",
    "    else:\n",
    "        print(\"%d번 학생은 불합격입니다.\" % number)"
   ]
  },
  {
   "cell_type": "code",
   "execution_count": 4,
   "metadata": {},
   "outputs": [
    {
     "name": "stdout",
     "output_type": "stream",
     "text": [
      "1번 학생 축하합니다. 합격입니다.\n",
      "3번 학생 축하합니다. 합격입니다.\n",
      "5번 학생 축하합니다. 합격입니다.\n"
     ]
    }
   ],
   "source": [
    "marks = [90, 25, 67, 45, 80]\n",
    "\n",
    "number = 0\n",
    "for mark in marks:\n",
    "    number = number + 1\n",
    "    if mark < 60:\n",
    "        continue\n",
    "    print(\"%d번 학생 축하합니다. 합격입니다.\" % number)"
   ]
  },
  {
   "cell_type": "code",
   "execution_count": 5,
   "metadata": {},
   "outputs": [
    {
     "name": "stdout",
     "output_type": "stream",
     "text": [
      "range(0, 10)\n"
     ]
    }
   ],
   "source": [
    "a = range(10)\n",
    "print(a)"
   ]
  },
  {
   "cell_type": "code",
   "execution_count": 6,
   "metadata": {},
   "outputs": [
    {
     "name": "stdout",
     "output_type": "stream",
     "text": [
      "55\n"
     ]
    }
   ],
   "source": [
    "add = 0\n",
    "for i in range(1, 11):\n",
    "    add = add + i\n",
    "print(add)"
   ]
  },
  {
   "cell_type": "code",
   "execution_count": 7,
   "metadata": {},
   "outputs": [
    {
     "name": "stdout",
     "output_type": "stream",
     "text": [
      "1번 학생 축하합니다. 합격입니다.\n",
      "3번 학생 축하합니다. 합격입니다.\n",
      "5번 학생 축하합니다. 합격입니다.\n"
     ]
    }
   ],
   "source": [
    "marks = [90, 25, 67, 45, 80]\n",
    "for number in range(len(marks)):\n",
    "    if marks[number] < 60:\n",
    "        continue\n",
    "    print(\"%d번 학생 축하합니다. 합격입니다.\" % (number + 1))"
   ]
  },
  {
   "cell_type": "code",
   "execution_count": 8,
   "metadata": {},
   "outputs": [
    {
     "name": "stdout",
     "output_type": "stream",
     "text": [
      "2 4 6 8 10 12 14 16 18  \n",
      "3 6 9 12 15 18 21 24 27  \n",
      "4 8 12 16 20 24 28 32 36  \n",
      "5 10 15 20 25 30 35 40 45  \n",
      "6 12 18 24 30 36 42 48 54  \n",
      "7 14 21 28 35 42 49 56 63  \n",
      "8 16 24 32 40 48 56 64 72  \n",
      "9 18 27 36 45 54 63 72 81  \n"
     ]
    }
   ],
   "source": [
    "for i in range(2, 10):\n",
    "    for j in range(1, 10):\n",
    "        print(i*j, end=\" \")\n",
    "    print(' ')"
   ]
  },
  {
   "cell_type": "code",
   "execution_count": 9,
   "metadata": {},
   "outputs": [
    {
     "name": "stdout",
     "output_type": "stream",
     "text": [
      "[3, 6, 9, 12]\n"
     ]
    }
   ],
   "source": [
    "# 리스트 컴프리헨션 사용하기\n",
    "# 리스트 안에 for문을 포함하는 '리스트 컴프리헨션'\n",
    "a = [1,2,3,4]\n",
    "result = []\n",
    "for num in a:\n",
    "    result.append(num * 3)\n",
    "print(result)"
   ]
  },
  {
   "cell_type": "code",
   "execution_count": 10,
   "metadata": {},
   "outputs": [
    {
     "name": "stdout",
     "output_type": "stream",
     "text": [
      "[3, 6, 9, 12]\n"
     ]
    }
   ],
   "source": [
    "# 위의 방식을 리스트 컴프리헨션을 사용하면 아래와 같이 해결할 수 있다.\n",
    "a = [1,2,3,4]\n",
    "result = [num * 3 for num in a]\n",
    "print(result)"
   ]
  },
  {
   "cell_type": "code",
   "execution_count": 11,
   "metadata": {},
   "outputs": [
    {
     "name": "stdout",
     "output_type": "stream",
     "text": [
      "[6, 12]\n"
     ]
    }
   ],
   "source": [
    "a = [1,2,3,4,5]\n",
    "result = [num * 3 for num in a if num % 2 == 0]\n",
    "print(result)"
   ]
  },
  {
   "cell_type": "code",
   "execution_count": 14,
   "metadata": {},
   "outputs": [
    {
     "name": "stdout",
     "output_type": "stream",
     "text": [
      "[2, 4, 6, 8, 10, 12, 14, 16, 18, 3, 6, 9, 12, 15, 18, 21, 24, 27, 4, 8, 12, 16, 20, 24, 28, 32, 36, 5, 10, 15, 20, 25, 30, 35, 40, 45, 6, 12, 18, 24, 30, 36, 42, 48, 54, 7, 14, 21, 28, 35, 42, 49, 56, 63, 8, 16, 24, 32, 40, 48, 56, 64, 72, 9, 18, 27, 36, 45, 54, 63, 72, 81]\n"
     ]
    }
   ],
   "source": [
    "result = [x*y for x in range(2, 10)\n",
    "            for y in range(1, 10)]\n",
    "print(result)"
   ]
  }
 ],
 "metadata": {
  "kernelspec": {
   "display_name": "base",
   "language": "python",
   "name": "python3"
  },
  "language_info": {
   "codemirror_mode": {
    "name": "ipython",
    "version": 3
   },
   "file_extension": ".py",
   "mimetype": "text/x-python",
   "name": "python",
   "nbconvert_exporter": "python",
   "pygments_lexer": "ipython3",
   "version": "3.9.12"
  },
  "orig_nbformat": 4,
  "vscode": {
   "interpreter": {
    "hash": "a7a68ff6df131d9ae7a0f60e2ded381d5113c51d2c465edd8572fa159edd1df8"
   }
  }
 },
 "nbformat": 4,
 "nbformat_minor": 2
}
