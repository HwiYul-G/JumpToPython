{
 "cells": [
  {
   "cell_type": "code",
   "execution_count": 1,
   "metadata": {},
   "outputs": [
    {
     "name": "stdout",
     "output_type": "stream",
     "text": [
      "3\n",
      "3\n",
      "1.2\n"
     ]
    }
   ],
   "source": [
    "# python 내장 함수는 파이썬 모듈과 달리,\n",
    "# import가 필요하지 않기 때문에 바로 사용할 수 있다.\n",
    "\n",
    "# abs(x) : x의 절대값을 반환\n",
    "print(abs(-3))\n",
    "print(abs(3))\n",
    "print(abs(-1.2))"
   ]
  },
  {
   "cell_type": "code",
   "execution_count": 3,
   "metadata": {},
   "outputs": [
    {
     "name": "stdout",
     "output_type": "stream",
     "text": [
      "True\n",
      "False\n",
      "True\n"
     ]
    }
   ],
   "source": [
    "# all(x) : x가 모두 참이면 True, 거짓이 하나라도 있으면 False\n",
    "print(all([1, 2, 3]))\n",
    "print(all([1, 2, 3, 0])) # 0 is False\n",
    "print(all([])) # True"
   ]
  },
  {
   "cell_type": "code",
   "execution_count": 4,
   "metadata": {},
   "outputs": [
    {
     "name": "stdout",
     "output_type": "stream",
     "text": [
      "True\n",
      "False\n",
      "False\n"
     ]
    }
   ],
   "source": [
    "# any(x) : x 중 하나라도 참이 있으면 True, 모두 거짓이면 False\n",
    "print(any([1, 2, 3, 0])) # 0 is False\n",
    "print(any([0, \"\"])) # False\n",
    "print(any([])) # False"
   ]
  },
  {
   "cell_type": "code",
   "execution_count": 5,
   "metadata": {},
   "outputs": [
    {
     "name": "stdout",
     "output_type": "stream",
     "text": [
      "a\n",
      "가\n"
     ]
    }
   ],
   "source": [
    "# chr(i) : 아스키(ASCII) 코드 값을 입력받아 그 코드에 해당하는 문자를 출력\n",
    "print(chr(97))\n",
    "print(chr(44032))"
   ]
  },
  {
   "cell_type": "code",
   "execution_count": 6,
   "metadata": {},
   "outputs": [
    {
     "name": "stdout",
     "output_type": "stream",
     "text": [
      "['__add__', '__class__', '__class_getitem__', '__contains__', '__delattr__', '__delitem__', '__dir__', '__doc__', '__eq__', '__format__', '__ge__', '__getattribute__', '__getitem__', '__gt__', '__hash__', '__iadd__', '__imul__', '__init__', '__init_subclass__', '__iter__', '__le__', '__len__', '__lt__', '__mul__', '__ne__', '__new__', '__reduce__', '__reduce_ex__', '__repr__', '__reversed__', '__rmul__', '__setattr__', '__setitem__', '__sizeof__', '__str__', '__subclasshook__', 'append', 'clear', 'copy', 'count', 'extend', 'index', 'insert', 'pop', 'remove', 'reverse', 'sort']\n",
      "['__class__', '__class_getitem__', '__contains__', '__delattr__', '__delitem__', '__dir__', '__doc__', '__eq__', '__format__', '__ge__', '__getattribute__', '__getitem__', '__gt__', '__hash__', '__init__', '__init_subclass__', '__ior__', '__iter__', '__le__', '__len__', '__lt__', '__ne__', '__new__', '__or__', '__reduce__', '__reduce_ex__', '__repr__', '__reversed__', '__ror__', '__setattr__', '__setitem__', '__sizeof__', '__str__', '__subclasshook__', 'clear', 'copy', 'fromkeys', 'get', 'items', 'keys', 'pop', 'popitem', 'setdefault', 'update', 'values']\n"
     ]
    }
   ],
   "source": [
    "# dir : 객체가 자체적으로 가지고 있는 변수나 함수를 보여준다.\n",
    "print(dir([1, 2, 3]))\n",
    "print(dir({'1':'a'}))"
   ]
  },
  {
   "cell_type": "code",
   "execution_count": 8,
   "metadata": {},
   "outputs": [
    {
     "name": "stdout",
     "output_type": "stream",
     "text": [
      "(2, 1)\n",
      "2 1\n"
     ]
    }
   ],
   "source": [
    "# divmod(a, b) : a를 b로 나눈 몫과 나머지를 튜플 형태로 반환\n",
    "print(divmod(7, 3))\n",
    "print( 7//3, 7%3 )"
   ]
  },
  {
   "cell_type": "code",
   "execution_count": 9,
   "metadata": {},
   "outputs": [
    {
     "name": "stdout",
     "output_type": "stream",
     "text": [
      "0 body\n",
      "1 foo\n",
      "2 bar\n"
     ]
    }
   ],
   "source": [
    "# enumerate : 열거ㅏ다\n",
    "# 순서가 있는 데이터(리스트, 튜플, 문자열)를 입력으로 받아 인덱스 값을 포함하는\n",
    "# enumerate 객체를 리턴한다.\n",
    "for i, name in enumerate(['body', 'foo', 'bar']):\n",
    "    print(i, name)\n",
    "# 순서 값과 함께 body, foo, bar가 순서대로 출력되었다.\n",
    "# enumerate를 for문과 함께 사용해서 자료형의 현재 순서(index)와 그 값을 쉽게 알 수 있다."
   ]
  },
  {
   "cell_type": "code",
   "execution_count": 10,
   "metadata": {},
   "outputs": [
    {
     "name": "stdout",
     "output_type": "stream",
     "text": [
      "3\n",
      "hia\n"
     ]
    },
    {
     "data": {
      "text/plain": [
       "(1, 1)"
      ]
     },
     "execution_count": 10,
     "metadata": {},
     "output_type": "execute_result"
    }
   ],
   "source": [
    "# eval(expression)\n",
    "# : 문자열로 구성된 표현식을 입력으로 받아, 해당 문자열을 실행한 결괏값을 리턴하는 함수이다.\n",
    "print(eval('1+2'))\n",
    "print(eval(\"'hi' + 'a'\"))\n",
    "eval('divmod(4, 3)')"
   ]
  },
  {
   "cell_type": "code",
   "execution_count": 11,
   "metadata": {},
   "outputs": [
    {
     "name": "stdout",
     "output_type": "stream",
     "text": [
      "[1, 2, 6]\n",
      "[1, 2, 6]\n"
     ]
    }
   ],
   "source": [
    "# filter\n",
    "# filter란 무엇인가를 걸러낸다는 뜻으로 filter 함수도 이와 같은 기능을 한다.\n",
    "# filter(func, iterable)\n",
    "# filter 함수는 첫 번째 인수로 함수를, \n",
    "# 두 번째 인수로 그 함수에 차례로 들어갈 반복 가능한 데이터를 받는다.\n",
    "\n",
    "def positive(l):\n",
    "    result = []\n",
    "    for i in l:\n",
    "        if i > 0:\n",
    "            result.append(i)\n",
    "    return result\n",
    "\n",
    "print(positive([1, -3, 2, 0, -5, 6]))\n",
    "\n",
    "# filter를 이용하면 아래와 같다.\n",
    "def positive(x):\n",
    "    return x > 0\n",
    "\n",
    "# positive 함수에 적용하여 반환 값이 참인 것만 묶어서 리턴한다.\n",
    "print(list(filter(positive, [1, -3, 2, 0, -5, 6])))\n",
    "\n",
    "# lambda를 사용하면 더욱 심플해진다.\n",
    "lst = list(filter(lambda x: x > 0, [1, -3, 2, 0, -5, 6]))\n",
    "\n"
   ]
  },
  {
   "cell_type": "code",
   "execution_count": 12,
   "metadata": {},
   "outputs": [
    {
     "name": "stdout",
     "output_type": "stream",
     "text": [
      "0xea\n",
      "0x3\n"
     ]
    }
   ],
   "source": [
    "# hex(x) : 정수 값을 입력받아 16진수(hexadecimal)로 변환하여 리턴\n",
    "print(hex(234))\n",
    "print(hex(3))"
   ]
  },
  {
   "cell_type": "code",
   "execution_count": 13,
   "metadata": {},
   "outputs": [
    {
     "name": "stdout",
     "output_type": "stream",
     "text": [
      "3170337909104\n",
      "3170337909104\n"
     ]
    }
   ],
   "source": [
    "# id(object) : 객체를 입력받아 객체의 고유 주소 값(레퍼런스)을 리턴하는 함수\n",
    "a = 3\n",
    "print(id(3))\n",
    "\n",
    "b = a\n",
    "print(id(b))"
   ]
  },
  {
   "cell_type": "code",
   "execution_count": null,
   "metadata": {},
   "outputs": [],
   "source": [
    "a = input()\n",
    "b = input(\"Enter : \")"
   ]
  },
  {
   "cell_type": "code",
   "execution_count": 15,
   "metadata": {},
   "outputs": [
    {
     "name": "stdout",
     "output_type": "stream",
     "text": [
      "3\n",
      "3\n",
      "3\n",
      "26\n"
     ]
    }
   ],
   "source": [
    "print(int('3'))\n",
    "print(int(3.4))\n",
    "\n",
    "# int(x, radix) : radix 진수로 표현된 문자열 x를 10진수로 변환해 리턴한다.\n",
    "# 예를 들어 2진수로 표현된 \"11\"의 10진수 값은 아래와 같이 구할 수 있다.\n",
    "print(int('11', 2))\n",
    "print(int('1A', 16)) # 16진수 1A를 10진수로 변환"
   ]
  },
  {
   "cell_type": "code",
   "execution_count": 17,
   "metadata": {},
   "outputs": [
    {
     "name": "stdout",
     "output_type": "stream",
     "text": [
      "True\n",
      "False\n"
     ]
    }
   ],
   "source": [
    "# isinstance(object, class) : 첫 번째 인수로 인스턴스, 두 번째 인수로 클래스 이름을 받는다.\n",
    "# 입력으로 받은 객체가 그 클래스의 인스턴스인지를 판단해 참이면 T, 거짓이면 F 리턴\n",
    "class Person: pass\n",
    "\n",
    "a = Person()\n",
    "print(isinstance(a, Person))\n",
    "print(isinstance(a, int))"
   ]
  },
  {
   "cell_type": "code",
   "execution_count": 18,
   "metadata": {},
   "outputs": [
    {
     "name": "stdout",
     "output_type": "stream",
     "text": [
      "6\n",
      "3\n",
      "2\n"
     ]
    }
   ],
   "source": [
    "# len(s) : 입력값 s의 길이(요소의 전체 개수)를 리턴하는 함수\n",
    "print(len(\"python\"))\n",
    "print(len([1, 2, 3]))\n",
    "print(len((1, 'a')))"
   ]
  },
  {
   "cell_type": "code",
   "execution_count": 19,
   "metadata": {},
   "outputs": [
    {
     "name": "stdout",
     "output_type": "stream",
     "text": [
      "['p', 'y', 't', 'h', 'o', 'n']\n"
     ]
    }
   ],
   "source": [
    "# list(iterable)\n",
    "# 반복가능한 데이터(iterable)를 입력받아 리스트로 만드러 리턴하는 함수\n",
    "a = list(\"python\")\n",
    "print(a)"
   ]
  },
  {
   "cell_type": "code",
   "execution_count": 20,
   "metadata": {},
   "outputs": [
    {
     "name": "stdout",
     "output_type": "stream",
     "text": [
      "[2, 4, 6, 8]\n",
      "[2, 4, 6, 8]\n",
      "[2, 4, 6, 8]\n"
     ]
    }
   ],
   "source": [
    "# map(f, iterable)\n",
    "# 함수(f)와 반복 가능한 데이터(iterable)를 입력으로 받는다.\n",
    "# 입력받은 데이터의 각 요소에 함수 f를 적용한 결과를 리턴하는 함수이다.\n",
    "\n",
    "def two_times(numberList):\n",
    "    result = []\n",
    "    for number in numberList:\n",
    "        result.append(number * 2)\n",
    "    return result\n",
    "\n",
    "result = two_times([1, 2, 3, 4])\n",
    "print(result)\n",
    "\n",
    "# map을 이용하면 아래와 같다.\n",
    "def two_times(x):\n",
    "    return x * 2\n",
    "\n",
    "# map 함수는 map 객체를 리턴한다.\n",
    "print(list(map(two_times, [1, 2, 3, 4])))\n",
    "\n",
    "# lambda를 사용하면 더욱 심플해진다.\n",
    "print(list(map(lambda a: a*2, [1, 2, 3, 4])))"
   ]
  },
  {
   "cell_type": "code",
   "execution_count": 21,
   "metadata": {},
   "outputs": [
    {
     "name": "stdout",
     "output_type": "stream",
     "text": [
      "3\n",
      "1\n"
     ]
    }
   ],
   "source": [
    "# max(iterable), min(iterable)\n",
    "max_n = max([1, 2, 3])\n",
    "print(max_n)\n",
    "\n",
    "min_n = min([1, 2, 3])\n",
    "print(min_n)"
   ]
  },
  {
   "cell_type": "code",
   "execution_count": 22,
   "metadata": {},
   "outputs": [
    {
     "name": "stdout",
     "output_type": "stream",
     "text": [
      "0o42\n",
      "0o30071\n"
     ]
    }
   ],
   "source": [
    "print(oct(34))\n",
    "print(oct(12345))"
   ]
  },
  {
   "cell_type": "code",
   "execution_count": 23,
   "metadata": {},
   "outputs": [],
   "source": [
    "# open(filename, [mode])"
   ]
  },
  {
   "cell_type": "code",
   "execution_count": 24,
   "metadata": {},
   "outputs": [
    {
     "name": "stdout",
     "output_type": "stream",
     "text": [
      "97\n",
      "48\n"
     ]
    }
   ],
   "source": [
    "# ord(c) : 문자의 아스키 코드 값을 리턴하는 함수\n",
    "print(ord('a'))\n",
    "print(ord('0'))"
   ]
  },
  {
   "cell_type": "code",
   "execution_count": 25,
   "metadata": {},
   "outputs": [
    {
     "name": "stdout",
     "output_type": "stream",
     "text": [
      "16\n",
      "27\n"
     ]
    }
   ],
   "source": [
    "# pow(x, y) : x의 y 제곱한 결괏값을 리턴\n",
    "print(pow(2, 4))\n",
    "print(pow(3, 3))"
   ]
  },
  {
   "cell_type": "code",
   "execution_count": 26,
   "metadata": {},
   "outputs": [
    {
     "name": "stdout",
     "output_type": "stream",
     "text": [
      "[0, 1, 2, 3, 4]\n",
      "[5, 6, 7, 8, 9]\n",
      "[1, 3, 5, 7, 9]\n",
      "[0, -1, -2, -3, -4, -5, -6, -7, -8, -9]\n"
     ]
    }
   ],
   "source": [
    "# range([start,] stop [,step])\n",
    "\n",
    "# 1. 인수가 하나일 경우\n",
    "lst = list(range(5)) # 0 ~ 4\n",
    "print(lst)\n",
    "\n",
    "# 2. 인수가 2개인 경우\n",
    "lst = list(range(5, 10))\n",
    "print(lst)\n",
    "\n",
    "# 3. 인수가 3개인 경우\n",
    "lst = list(range(1, 10, 2))\n",
    "print(lst)\n",
    "\n",
    "lst = list(range(0, -10, -1))\n",
    "print(lst)"
   ]
  },
  {
   "cell_type": "code",
   "execution_count": 27,
   "metadata": {},
   "outputs": [
    {
     "name": "stdout",
     "output_type": "stream",
     "text": [
      "5\n",
      "4\n",
      "5.68\n"
     ]
    }
   ],
   "source": [
    "# round(number[, ndigits])\n",
    "# 반올림해 리턴하는 함수\n",
    "\n",
    "print(round(4.6))\n",
    "print(round(4.2))\n",
    "\n",
    "print(round(5.678, 2)) # 소수점 2째 짜리 까지"
   ]
  },
  {
   "cell_type": "code",
   "execution_count": 28,
   "metadata": {},
   "outputs": [
    {
     "name": "stdout",
     "output_type": "stream",
     "text": [
      "[1, 2, 3]\n",
      "['a', 'b', 'c']\n",
      "['e', 'o', 'r', 'z']\n"
     ]
    }
   ],
   "source": [
    "print(sorted([3, 1, 2]))\n",
    "print(sorted(['a', 'c', 'b']))\n",
    "print(sorted(\"zero\"))"
   ]
  },
  {
   "cell_type": "code",
   "execution_count": 29,
   "metadata": {},
   "outputs": [
    {
     "name": "stdout",
     "output_type": "stream",
     "text": [
      "3\n",
      "HI\n"
     ]
    }
   ],
   "source": [
    "# str(object) : 문자열 형태로 객체를 변환하여 리턴\n",
    "print(str(3))\n",
    "print(str('hi'.upper()))"
   ]
  },
  {
   "cell_type": "code",
   "execution_count": 30,
   "metadata": {},
   "outputs": [
    {
     "name": "stdout",
     "output_type": "stream",
     "text": [
      "6\n",
      "15\n"
     ]
    }
   ],
   "source": [
    "# sum(iterable)\n",
    "print(sum([1, 2, 3]))\n",
    "print(sum((4, 5, 6)))"
   ]
  },
  {
   "cell_type": "code",
   "execution_count": 31,
   "metadata": {},
   "outputs": [
    {
     "name": "stdout",
     "output_type": "stream",
     "text": [
      "('a', 'b', 'c')\n",
      "(1, 2, 3)\n",
      "(4, 5, 6)\n"
     ]
    }
   ],
   "source": [
    "# tuple(iterable) : 반복 가능한 자료형을 입력받아 튜플 형태로 바꾸어 리턴\n",
    "print(tuple(\"abc\"))\n",
    "print(tuple([1, 2, 3]))\n",
    "print(tuple((4, 5, 6)))"
   ]
  },
  {
   "cell_type": "code",
   "execution_count": 32,
   "metadata": {},
   "outputs": [
    {
     "name": "stdout",
     "output_type": "stream",
     "text": [
      "<class 'str'>\n",
      "<class 'list'>\n",
      "<class '_io.TextIOWrapper'>\n"
     ]
    }
   ],
   "source": [
    "# type(object)\n",
    "print(type(\"abc\"))\n",
    "print(type([]))\n",
    "print(type(open(\"test\", \"w\")))"
   ]
  },
  {
   "cell_type": "code",
   "execution_count": 33,
   "metadata": {},
   "outputs": [
    {
     "name": "stdout",
     "output_type": "stream",
     "text": [
      "[(1, 4), (2, 5), (3, 6)]\n",
      "[(1, 4, 7), (2, 5, 8), (3, 6, 9)]\n",
      "[('a', 'd'), ('b', 'e'), ('c', 'f')]\n"
     ]
    }
   ],
   "source": [
    "# zip(*iterable)\n",
    "# 동일한 개수로 이루어진 데이터들을 묶어서 리턴하는 함수\n",
    "# *iterable은 반복 가능한 데이터 여러 개를 입력할 수 있다는 뜻이다.\n",
    "\n",
    "lst = list(zip([1, 2, 3], [4, 5, 6]))\n",
    "print(lst)\n",
    "\n",
    "lst = list(zip([1,2,3], [4,5,6], [7,8,9]))\n",
    "print(lst)\n",
    "\n",
    "lst = list(zip(\"abc\", \"def\"))\n",
    "print(lst)\n"
   ]
  }
 ],
 "metadata": {
  "kernelspec": {
   "display_name": "base",
   "language": "python",
   "name": "python3"
  },
  "language_info": {
   "codemirror_mode": {
    "name": "ipython",
    "version": 3
   },
   "file_extension": ".py",
   "mimetype": "text/x-python",
   "name": "python",
   "nbconvert_exporter": "python",
   "pygments_lexer": "ipython3",
   "version": "3.9.12"
  },
  "orig_nbformat": 4,
  "vscode": {
   "interpreter": {
    "hash": "a7a68ff6df131d9ae7a0f60e2ded381d5113c51d2c465edd8572fa159edd1df8"
   }
  }
 },
 "nbformat": 4,
 "nbformat_minor": 2
}
