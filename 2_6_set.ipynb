{
 "cells": [
  {
   "cell_type": "code",
   "execution_count": 1,
   "metadata": {},
   "outputs": [
    {
     "name": "stdout",
     "output_type": "stream",
     "text": [
      "{1, 2, 3}\n",
      "{'H', 'e', 'l', 'o'}\n"
     ]
    }
   ],
   "source": [
    "# set(집합)은 파이썬 2.3부터 지원하기 시작한 자료형으로, 집합에 관련된 것을 쉽게 처리하기 위해 만든 자료형이다.\n",
    "s1 = set([1,2,3])\n",
    "print(s1)\n",
    "\n",
    "s2 = set(\"Hello\")\n",
    "print(s2)"
   ]
  },
  {
   "cell_type": "code",
   "execution_count": 2,
   "metadata": {},
   "outputs": [
    {
     "name": "stdout",
     "output_type": "stream",
     "text": [
      "{1, 2, 3}\n",
      "[1, 2, 3]\n",
      "1\n",
      "\n",
      "(1, 2, 3)\n",
      "1\n"
     ]
    }
   ],
   "source": [
    "# set(\"Hello\")의 결과를 보면 l 문자 하나가 빠지고 순서도 뒤죽박죽이다.\n",
    "# 이는 set에 두 가지 특징이 있기 때문이다.\n",
    "# 1) 중복을 허용하지 않는다.\n",
    "# 2) 순서가 없다(unordered)\n",
    "# set은 중복을 허용하지 않는 특징으로, 중복 제거를 위한 필터로도 사용된다.\n",
    "\n",
    "# 리스트나 튜플은 ordered이므로 인덱싱을 통해 자료형의 값을 얻을 수 있지만,\n",
    "# set 자료형은 unorderd이므로 인덱싱 값으로 얻을 수 없다.\n",
    "# 딕셔너리 없이 unordered 이므로 인덱싱을 지원하지 않는다.\n",
    "\n",
    "# 만약 set 자료형에 저장된 값을 인덱싱으로 접근하려면 다음과 같이 리스트나 튜플로 변호나한 후에 해야 한다.\n",
    "s1 = set([1,2,3])\n",
    "l1 = list(s1)\n",
    "print(s1)\n",
    "print(l1)\n",
    "print(l1[0])\n",
    "print()\n",
    "\n",
    "t1 = tuple(s1)\n",
    "print(t1)\n",
    "print(t1[0])"
   ]
  },
  {
   "cell_type": "code",
   "execution_count": 3,
   "metadata": {},
   "outputs": [
    {
     "name": "stdout",
     "output_type": "stream",
     "text": [
      "{4, 5, 6}\n",
      "{4, 5, 6}\n",
      "{1, 2, 3, 4, 5, 6, 7, 8, 9}\n",
      "{1, 2, 3, 4, 5, 6, 7, 8, 9}\n",
      "{1, 2, 3}\n",
      "{8, 9, 7}\n",
      "{1, 2, 3}\n",
      "{8, 9, 7}\n"
     ]
    }
   ],
   "source": [
    "s1 = set([1, 2, 3, 4, 5, 6])\n",
    "s2 = set([4, 5, 6, 7, 8, 9])\n",
    "\n",
    "# 교집합\n",
    "print(s1 & s2)\n",
    "print(s1.intersection(s2))\n",
    "\n",
    "# 합집합\n",
    "print(s1 | s2)\n",
    "print(s1.union(s2))\n",
    "\n",
    "# 차집합\n",
    "print(s1 - s2)\n",
    "print(s2 - s1)\n",
    "print(s1.difference(s2))\n",
    "print(s2.difference(s1))"
   ]
  },
  {
   "cell_type": "code",
   "execution_count": 4,
   "metadata": {},
   "outputs": [
    {
     "name": "stdout",
     "output_type": "stream",
     "text": [
      "{1, 2, 3, 4}\n",
      "{1, 2, 3, 4, 5, 6}\n",
      "{1, 3}\n"
     ]
    }
   ],
   "source": [
    "# function\n",
    "# 1) add() : 값 1개 추가\n",
    "s1 = set([1, 2, 3])\n",
    "s1.add(4)\n",
    "print(s1)\n",
    "\n",
    "# 2) update() : 값 여러 개 추가\n",
    "s1 = set([1, 2, 3])\n",
    "s1.update([4, 5, 6])\n",
    "print(s1)\n",
    "\n",
    "# 3) remove() : 특정 값 제거\n",
    "s1 = set([1, 2, 3])\n",
    "s1.remove(2)\n",
    "print(s1)"
   ]
  }
 ],
 "metadata": {
  "kernelspec": {
   "display_name": "base",
   "language": "python",
   "name": "python3"
  },
  "language_info": {
   "codemirror_mode": {
    "name": "ipython",
    "version": 3
   },
   "file_extension": ".py",
   "mimetype": "text/x-python",
   "name": "python",
   "nbconvert_exporter": "python",
   "pygments_lexer": "ipython3",
   "version": "3.9.12"
  },
  "orig_nbformat": 4,
  "vscode": {
   "interpreter": {
    "hash": "a7a68ff6df131d9ae7a0f60e2ded381d5113c51d2c465edd8572fa159edd1df8"
   }
  }
 },
 "nbformat": 4,
 "nbformat_minor": 2
}
