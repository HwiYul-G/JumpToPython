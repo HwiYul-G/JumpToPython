{
 "cells": [
  {
   "cell_type": "code",
   "execution_count": 1,
   "metadata": {},
   "outputs": [],
   "source": [
    "a = 1\n",
    "b = \"python\"\n",
    "c = [1, 2, 3]\n",
    "# 변수를 만들 때는 위 예처럼 =(assignment) 기호를 사용한다."
   ]
  },
  {
   "cell_type": "code",
   "execution_count": 2,
   "metadata": {},
   "outputs": [
    {
     "name": "stdout",
     "output_type": "stream",
     "text": [
      "2200143929600\n"
     ]
    }
   ],
   "source": [
    "# python에서 변수는 객체를 가리키는 것이라고도 할 수 있다.\n",
    "# 객체란 우리가 지금껏 보아온 자료형의 데이터(값)와 같은 것을 의미하는 말이다.\n",
    "a = [1, 2, 3]\n",
    "# 만약 위와 같은 코드가 있으면,\n",
    "# [1, 2, 3]이란 값을 가지는 리스트 데이터(객체)가 자동으로 메모리에 생성된다.\n",
    "# 변수 a는 [1, 2, 3] 리스트가 저장된 메모리의 주소를 가리킨다.\n",
    "\n",
    "# * 메모리란 컴퓨터가 프로그램에서 사용하는 데이터를 기억하는 공간이다.\n",
    "# a 변수가 가리키는 메모리 주소는 아래와 같이 확인할수 있다.\n",
    "a = [1, 2, 3]\n",
    "print(id(a))"
   ]
  },
  {
   "cell_type": "code",
   "execution_count": 3,
   "metadata": {},
   "outputs": [
    {
     "name": "stdout",
     "output_type": "stream",
     "text": [
      "2200143682624\n",
      "2200143682624\n",
      "True\n"
     ]
    }
   ],
   "source": [
    "# list를 복사하고자 할 때\n",
    "a = [1, 2, 3]\n",
    "b = a\n",
    "# 변수 b에 a를 대입하면 b와 a는 완전히 동일하다.\n",
    "print(id(a))\n",
    "print(id(b))\n",
    "# id(a)와 id(b)의 값이 동일하다.\n",
    "\n",
    "print(a is b) # a와 b가 가리키는 객체는 동일하다. True가 결과로 나옴"
   ]
  },
  {
   "cell_type": "code",
   "execution_count": 4,
   "metadata": {},
   "outputs": [
    {
     "name": "stdout",
     "output_type": "stream",
     "text": [
      "[1, 4, 3]\n",
      "[1, 4, 3]\n"
     ]
    }
   ],
   "source": [
    "a[1] = 4\n",
    "print(a)\n",
    "print(b)"
   ]
  },
  {
   "cell_type": "code",
   "execution_count": 5,
   "metadata": {},
   "outputs": [
    {
     "name": "stdout",
     "output_type": "stream",
     "text": [
      "[1, 4, 3]\n",
      "[1, 2, 3]\n"
     ]
    }
   ],
   "source": [
    "# 그렇다면 변수 b를 생성할 때 a 변수의 값을가져오면 다른 주소를 가리키도록 만들 수는 없을가?\n",
    "# [:] 이용\n",
    "a = [1, 2, 3]\n",
    "b = a[:]\n",
    "a[1] = 4\n",
    "print(a)\n",
    "print(b)"
   ]
  },
  {
   "cell_type": "code",
   "execution_count": 6,
   "metadata": {},
   "outputs": [
    {
     "name": "stdout",
     "output_type": "stream",
     "text": [
      "False\n"
     ]
    }
   ],
   "source": [
    "# copy 모듈 이용\n",
    "from copy import copy\n",
    "a = [1, 2, 3]\n",
    "b = copy(a)\n",
    "\n",
    "print(b is a) # False"
   ]
  },
  {
   "cell_type": "code",
   "execution_count": 7,
   "metadata": {},
   "outputs": [],
   "source": [
    "# 튜플로 a, b에 값을 대입할 수 있다.\n",
    "a, b = (\"python\", \"life\")\n",
    "# 위의 방법은 아래의 방법과 완전 동일하다.\n",
    "(a, b) = \"python\", \"life\"\n",
    "\n",
    "# 다음처럼 리스트로 변수를 만들 수도 있다.\n",
    "[a, b] = [\"python\", \"life\"]\n",
    "\n",
    "# 여러 개의 변수에 같은 값을 대입할 수도 있다.\n",
    "a = b = 'python'"
   ]
  },
  {
   "cell_type": "code",
   "execution_count": 8,
   "metadata": {},
   "outputs": [
    {
     "name": "stdout",
     "output_type": "stream",
     "text": [
      "5\n",
      "3\n"
     ]
    }
   ],
   "source": [
    "a = 3\n",
    "b = 5\n",
    "a, b = b, a\n",
    "print(a)\n",
    "print(b)"
   ]
  }
 ],
 "metadata": {
  "kernelspec": {
   "display_name": "base",
   "language": "python",
   "name": "python3"
  },
  "language_info": {
   "codemirror_mode": {
    "name": "ipython",
    "version": 3
   },
   "file_extension": ".py",
   "mimetype": "text/x-python",
   "name": "python",
   "nbconvert_exporter": "python",
   "pygments_lexer": "ipython3",
   "version": "3.9.12"
  },
  "orig_nbformat": 4,
  "vscode": {
   "interpreter": {
    "hash": "a7a68ff6df131d9ae7a0f60e2ded381d5113c51d2c465edd8572fa159edd1df8"
   }
  }
 },
 "nbformat": 4,
 "nbformat_minor": 2
}
